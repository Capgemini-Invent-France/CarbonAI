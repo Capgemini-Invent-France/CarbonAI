{
 "cells": [
  {
   "cell_type": "markdown",
   "metadata": {},
   "source": [
    "# Usage example\n",
    "\n",
    "This notebook aims at providing some example code on how to use the python package PyPowerGadget.\n",
    "This package allows you to monitor the energy consumption and CO2 footprint of any sample of code or function\n",
    "\n",
    "[TOC]"
   ]
  },
  {
   "cell_type": "markdown",
   "metadata": {},
   "source": [
    "In all this notebook we'll try to measure how much CO2 does the training of a toy algorithm on the mnist database emit\n",
    "```python\n",
    "mnist = datasets.load_digits()\n",
    "X = mnist.data\n",
    "y = mnist.target\n",
    "clf = SGDClassifier(loss='log', alpha=1e-5)\n",
    "cv = StratifiedKFold(10, random_state=0, shuffle=True)\n",
    "cv_results = cross_validate(clf, X, y, cv=cv)\n",
    "print(cv_results['test_score'].mean(), cv_results['test_score'].std())\n",
    "```"
   ]
  },
  {
   "cell_type": "code",
   "execution_count": 1,
   "metadata": {
    "ExecuteTime": {
     "end_time": "2020-06-15T13:45:57.344224Z",
     "start_time": "2020-06-15T13:45:55.494918Z"
    }
   },
   "outputs": [],
   "source": [
    "from PyPowerGadget import PowerMeter"
   ]
  },
  {
   "cell_type": "code",
   "execution_count": 2,
   "metadata": {
    "ExecuteTime": {
     "end_time": "2020-06-15T13:45:57.377390Z",
     "start_time": "2020-06-15T13:45:57.348756Z"
    }
   },
   "outputs": [
    {
     "name": "stdout",
     "output_type": "stream",
     "text": [
      "Help on class PowerMeter in module PyPowerGadget.PowerMeter:\n",
      "\n",
      "class PowerMeter(builtins.object)\n",
      " |  PowerMeter(project_name='', cpu_power_log_path='', get_country=True, user_name='')\n",
      " |  \n",
      " |  PowerMeter is a general tool to monitor and log the power consumption of any given function.\n",
      " |  \n",
      " |  Parameters\n",
      " |  ----------\n",
      " |  project_name (optional) : str\n",
      " |      Name of the project you are working on (default is folder_name)\n",
      " |  cpu_power_log_path (optional) : str\n",
      " |      The path to the tool \"PowerLog\"\n",
      " |  get_country (optional) : bool\n",
      " |      Whether use user country location or not\n",
      " |  user_name (optional) : str\n",
      " |      The name of the user using the tool (for logging purpose)\n",
      " |  \n",
      " |  Methods defined here:\n",
      " |  \n",
      " |  __call__(self, package, algorithm, data_type='', data_shape='', algorithm_params='', comments='')\n",
      " |      Call self as a function.\n",
      " |  \n",
      " |  __enter__(self)\n",
      " |  \n",
      " |  __exit__(self, type, value, traceback)\n",
      " |  \n",
      " |  __init__(self, project_name='', cpu_power_log_path='', get_country=True, user_name='')\n",
      " |      Initialize self.  See help(type(self)) for accurate signature.\n",
      " |  \n",
      " |  measure_power(self, package, algorithm, data_type='', data_shape='', algorithm_params='', comments='')\n",
      " |      A decorator to measure the power consumption of a given function\n",
      " |      \n",
      " |      Parameters\n",
      " |      ----------\n",
      " |      package : str\n",
      " |          A string describing the package used by this function (e.g. sklearn, Pytorch, ...)\n",
      " |      algorithm : str\n",
      " |          A string describing the algorithm used in the function monitored (e.g. RandomForestClassifier, ResNet121, ...)\n",
      " |      data_type : str (among : tabular, image, text, time series, other)\n",
      " |          A string describing the type of data used for training\n",
      " |      data_shape : str or tuple\n",
      " |          A string or tuple describing the quantity of data used\n",
      " |      algorithm_params (optional) : str\n",
      " |          A string describing the parameters used by the algorithm\n",
      " |      comments (optional) : str\n",
      " |          A string to provide any useful information\n",
      " |      \n",
      " |      Returns\n",
      " |      -------\n",
      " |  \n",
      " |  start_measure(self, package, algorithm, data_type='', data_shape='', algorithm_params='', comments='')\n",
      " |      Start mesuring the power consumption of a given  sample of code\n",
      " |      \n",
      " |      Parameters\n",
      " |      ----------\n",
      " |      package : str\n",
      " |          A string describing the package used by this function (e.g. sklearn, Pytorch, ...)\n",
      " |      algorithm : str\n",
      " |          A string describing the algorithm used in the function monitored (e.g. RandomForestClassifier, ResNet121, ...)\n",
      " |      data_type : str (among : tabular, image, text, time series, other)\n",
      " |          A string describing the type of data used for training\n",
      " |      data_shape : str or tuple\n",
      " |          A string or tuple describing the quantity of data used\n",
      " |      algorithm_params (optional) : str\n",
      " |          A string describing the parameters used by the algorithm\n",
      " |      comments (optional) : str\n",
      " |          A string to provide any useful information\n",
      " |      \n",
      " |      Returns\n",
      " |      -------\n",
      " |      None\n",
      " |  \n",
      " |  stop_measure(self)\n",
      " |  \n",
      " |  ----------------------------------------------------------------------\n",
      " |  Data descriptors defined here:\n",
      " |  \n",
      " |  __dict__\n",
      " |      dictionary for instance variables (if defined)\n",
      " |  \n",
      " |  __weakref__\n",
      " |      list of weak references to the object (if defined)\n",
      "\n"
     ]
    }
   ],
   "source": [
    "help(PowerMeter)"
   ]
  },
  {
   "cell_type": "code",
   "execution_count": 3,
   "metadata": {
    "ExecuteTime": {
     "end_time": "2020-06-15T13:46:00.230658Z",
     "start_time": "2020-06-15T13:45:57.385360Z"
    }
   },
   "outputs": [],
   "source": [
    "# imports\n",
    "from PyPowerGadget import PowerMeter #Our package\n",
    "\n",
    "from sklearn import datasets\n",
    "from sklearn.preprocessing import StandardScaler\n",
    "from sklearn.model_selection import StratifiedKFold, cross_validate\n",
    "from sklearn.linear_model import SGDClassifier"
   ]
  },
  {
   "cell_type": "code",
   "execution_count": 4,
   "metadata": {
    "ExecuteTime": {
     "end_time": "2020-06-15T13:46:00.465489Z",
     "start_time": "2020-06-15T13:46:00.234397Z"
    }
   },
   "outputs": [],
   "source": [
    "# Creates a power meter object that contains information relative to the current project\n",
    "# You need to do this step no matter how you use the package\n",
    "power_meter = PowerMeter(project_name=\"Usage examples\")"
   ]
  },
  {
   "cell_type": "markdown",
   "metadata": {},
   "source": [
    "## Function decorator"
   ]
  },
  {
   "cell_type": "code",
   "execution_count": 5,
   "metadata": {
    "ExecuteTime": {
     "end_time": "2020-06-15T13:46:00.476203Z",
     "start_time": "2020-06-15T13:46:00.467819Z"
    }
   },
   "outputs": [],
   "source": [
    "# Add a decorator to the main function to measure power usage of this function each time it is called\n",
    "@power_meter.measure_power(\n",
    "  package=\"sklearn\",\n",
    "  algorithm=\"SGDClassifier\",\n",
    "  data_type=\"tabular/images\",\n",
    "  data_shape=\"(1797, 64)\",\n",
    "  algorithm_params=\"loss='log', alpha=1e-5\",\n",
    "  comments=\"10 fold cross validated training of logistic regression classifier trained on the MNIST dataset\"\n",
    ")\n",
    "def cross_val_mnist(alpha, random_state=0):\n",
    "    mnist = datasets.load_digits()\n",
    "    X = mnist.data\n",
    "    y = mnist.target\n",
    "    clf = SGDClassifier(loss='log', alpha=alpha, random_state=random_state)\n",
    "    cv = StratifiedKFold(10, random_state=random_state, shuffle=True)\n",
    "    cv_results = cross_validate(clf, X, y, cv=cv)\n",
    "    print(cv_results['test_score'].mean(), cv_results['test_score'].std())\n",
    "    return cv_results"
   ]
  },
  {
   "cell_type": "code",
   "execution_count": 6,
   "metadata": {
    "ExecuteTime": {
     "end_time": "2020-06-15T13:46:05.838244Z",
     "start_time": "2020-06-15T13:46:00.479687Z"
    }
   },
   "outputs": [
    {
     "name": "stdout",
     "output_type": "stream",
     "text": [
      "starting CPU power monitoring ...\n",
      "0.9565983860955928 0.013556136197153262\n",
      "stoping CPU power monitoring ...\n",
      "This process emitted 0.001g of CO2 (using the energy mix of b'France')\n"
     ]
    }
   ],
   "source": [
    "train_results = cross_val_mnist(1e-5)"
   ]
  },
  {
   "cell_type": "markdown",
   "metadata": {},
   "source": [
    "## Magic function\n",
    "Only usable in notebooks"
   ]
  },
  {
   "cell_type": "code",
   "execution_count": 7,
   "metadata": {
    "ExecuteTime": {
     "end_time": "2020-06-15T13:46:05.853597Z",
     "start_time": "2020-06-15T13:46:05.842416Z"
    }
   },
   "outputs": [],
   "source": [
    "# import the magic function module\n",
    "%load_ext PyPowerGadget.MagicPowerMeter"
   ]
  },
  {
   "cell_type": "code",
   "execution_count": 8,
   "metadata": {
    "ExecuteTime": {
     "end_time": "2020-06-15T13:46:06.069703Z",
     "start_time": "2020-06-15T13:46:06.064120Z"
    }
   },
   "outputs": [],
   "source": [
    "%%measure_power?"
   ]
  },
  {
   "cell_type": "code",
   "execution_count": 9,
   "metadata": {
    "ExecuteTime": {
     "end_time": "2020-06-15T13:46:15.118921Z",
     "start_time": "2020-06-15T13:46:09.905582Z"
    }
   },
   "outputs": [
    {
     "name": "stdout",
     "output_type": "stream",
     "text": [
      "starting CPU power monitoring ...\n",
      "0.9565983860955928 0.013556136197153262\n",
      "stoping CPU power monitoring ...\n",
      "This process emitted 0.000g of CO2 (using the energy mix of b'France')\n"
     ]
    }
   ],
   "source": [
    "%%measure_power power_meter \"sklearn\" \"SGDClassifier\" --data_type \"tabular/images\" --data_shape \"(1797,64)\" --algorithm_params \"loss='log', alpha=1e-5\" --comments \"10 fold cross validated training of logistic regression classifier trained on the MNIST dataset\"\n",
    "# This command must always be on the first line of the cell and must be written on one line\n",
    "mnist = datasets.load_digits()\n",
    "X = mnist.data\n",
    "y = mnist.target\n",
    "clf = SGDClassifier(loss='log', alpha=1e-5, random_state=0)\n",
    "cv = StratifiedKFold(10, random_state=0, shuffle=True)\n",
    "cv_results = cross_validate(clf, X, y, cv=cv)\n",
    "print(cv_results['test_score'].mean(), cv_results['test_score'].std())"
   ]
  },
  {
   "cell_type": "markdown",
   "metadata": {},
   "source": [
    "## Inline commands\n",
    "There are 2 ways of using this package using inline commands, we recommmand using the *with statement* over the *start and stop methods* as the with statement stops the process automatically even if you get an error in the process"
   ]
  },
  {
   "cell_type": "markdown",
   "metadata": {},
   "source": [
    "### Using the with statement"
   ]
  },
  {
   "cell_type": "code",
   "execution_count": 10,
   "metadata": {
    "ExecuteTime": {
     "end_time": "2020-06-15T13:49:58.923826Z",
     "start_time": "2020-06-15T13:49:53.639125Z"
    }
   },
   "outputs": [
    {
     "name": "stdout",
     "output_type": "stream",
     "text": [
      "starting CPU power monitoring ...\n",
      "0.9565983860955928 0.013556136197153262\n",
      "stoping CPU power monitoring ...\n",
      "This process emitted 0.001g of CO2 (using the energy mix of b'France')\n"
     ]
    }
   ],
   "source": [
    "with power_meter(\n",
    "  package=\"sklearn\",\n",
    "  algorithm=\"SGDClassifier\",\n",
    "  data_type=\"tabular/images\",\n",
    "  data_shape=\"(1797, 64)\",\n",
    "  algorithm_params=\"loss='log', alpha=1e-5\",\n",
    "  comments=\"10 fold cross validated training of logistic regression classifier trained on the MNIST dataset\"\n",
    "):\n",
    "    mnist = datasets.load_digits()\n",
    "    X = mnist.data\n",
    "    y = mnist.target\n",
    "    clf = SGDClassifier(loss='log', alpha=1e-5, random_state=0)\n",
    "    cv = StratifiedKFold(10, random_state=0, shuffle=True)\n",
    "    cv_results = cross_validate(clf, X, y, cv=cv)\n",
    "    print(cv_results['test_score'].mean(), cv_results['test_score'].std())"
   ]
  },
  {
   "cell_type": "markdown",
   "metadata": {},
   "source": [
    "### Using start_measure and stop_measure methods"
   ]
  },
  {
   "cell_type": "code",
   "execution_count": 11,
   "metadata": {
    "ExecuteTime": {
     "end_time": "2020-06-15T13:51:15.680185Z",
     "start_time": "2020-06-15T13:51:10.449229Z"
    }
   },
   "outputs": [
    {
     "name": "stdout",
     "output_type": "stream",
     "text": [
      "starting CPU power monitoring ...\n",
      "0.9565983860955928 0.013556136197153262\n",
      "stoping CPU power monitoring ...\n",
      "This process emitted 0.001g of CO2 (using the energy mix of b'France')\n"
     ]
    }
   ],
   "source": [
    "power_meter.start_measure(\n",
    "  package=\"sklearn\",\n",
    "  algorithm=\"SGDClassifier\",\n",
    "  data_type=\"tabular/images\",\n",
    "  data_shape=\"(1797, 64)\",\n",
    "  algorithm_params=\"loss='log', alpha=1e-5\",\n",
    "  comments=\"10 fold cross validated training of logistic regression classifier trained on the MNIST dataset\"\n",
    ")\n",
    "\n",
    "mnist = datasets.load_digits()\n",
    "X = mnist.data\n",
    "y = mnist.target\n",
    "clf = SGDClassifier(loss='log', alpha=1e-5, random_state=0)\n",
    "cv = StratifiedKFold(10, random_state=0, shuffle=True)\n",
    "cv_results = cross_validate(clf, X, y, cv=cv)\n",
    "print(cv_results['test_score'].mean(), cv_results['test_score'].std())\n",
    "\n",
    "power_meter.stop_measure()"
   ]
  }
 ],
 "metadata": {
  "kernelspec": {
   "display_name": "green_ai",
   "language": "python",
   "name": "green_ai"
  },
  "language_info": {
   "codemirror_mode": {
    "name": "ipython",
    "version": 3
   },
   "file_extension": ".py",
   "mimetype": "text/x-python",
   "name": "python",
   "nbconvert_exporter": "python",
   "pygments_lexer": "ipython3",
   "version": "3.7.6"
  }
 },
 "nbformat": 4,
 "nbformat_minor": 4
}
