{
 "cells": [
  {
   "cell_type": "markdown",
   "metadata": {},
   "source": [
    "# Usage example\n",
    "\n",
    "This notebook aims at providing some example code on how to use the python package CarbonAImpact.\n",
    "This package allows you to monitor the energy consumption and CO2 footprint of any sample of code or function\n",
    "\n",
    "[TOC]"
   ]
  },
  {
   "cell_type": "markdown",
   "metadata": {},
   "source": [
    "In all this notebook we'll try to measure how much CO2 does the training of a toy algorithm on the mnist database emit\n",
    "```python\n",
    "mnist = datasets.load_digits()\n",
    "X = mnist.data\n",
    "y = mnist.target\n",
    "clf = SGDClassifier(loss='log', alpha=1e-5)\n",
    "cv = StratifiedKFold(10, random_state=0, shuffle=True)\n",
    "cv_results = cross_validate(clf, X, y, cv=cv)\n",
    "print(cv_results['test_score'].mean(), cv_results['test_score'].std())\n",
    "```"
   ]
  },
  {
   "cell_type": "code",
   "execution_count": 20,
   "metadata": {},
   "outputs": [],
   "source": [
    "from sklearn import datasets\n",
    "from sklearn.preprocessing import StandardScaler\n",
    "from sklearn.model_selection import StratifiedKFold, cross_validate\n",
    "from sklearn.linear_model import SGDClassifier\n",
    "import matplotlib.pyplot as plt\n",
    "import numpy as np"
   ]
  },
  {
   "cell_type": "code",
   "execution_count": 21,
   "metadata": {},
   "outputs": [
    {
     "output_type": "execute_result",
     "data": {
      "text/plain": [
       "((1797, 64), (1797,))"
      ]
     },
     "metadata": {},
     "execution_count": 21
    }
   ],
   "source": [
    "X, y = datasets.load_digits(return_X_y=True)\n",
    "X.shape, y.shape"
   ]
  },
  {
   "cell_type": "code",
   "execution_count": 22,
   "metadata": {},
   "outputs": [
    {
     "output_type": "display_data",
     "data": {
      "text/plain": "<Figure size 576x432 with 9 Axes>",
      "image/svg+xml": "<?xml version=\"1.0\" encoding=\"utf-8\" standalone=\"no\"?>\n<!DOCTYPE svg PUBLIC \"-//W3C//DTD SVG 1.1//EN\"\n  \"http://www.w3.org/Graphics/SVG/1.1/DTD/svg11.dtd\">\n<!-- Created with matplotlib (https://matplotlib.org/) -->\n<svg height=\"383.76pt\" version=\"1.1\" viewBox=\"0 0 425.435294 383.76\" width=\"425.435294pt\" xmlns=\"http://www.w3.org/2000/svg\" xmlns:xlink=\"http://www.w3.org/1999/xlink\">\n <defs>\n  <style type=\"text/css\">\n*{stroke-linecap:butt;stroke-linejoin:round;}\n  </style>\n </defs>\n <g id=\"figure_1\">\n  <g id=\"patch_1\">\n   <path d=\"M 0 383.76 \nL 425.435294 383.76 \nL 425.435294 0 \nL 0 0 \nz\n\" style=\"fill:none;\"/>\n  </g>\n  <g id=\"axes_1\">\n   <g clip-path=\"url(#p33c4faf25c)\">\n    <image height=\"96\" id=\"image42e2abaaa2\" transform=\"scale(1 -1)translate(0 -96)\" width=\"96\" x=\"7.2\" xlink:href=\"data:image/png;base64,\niVBORw0KGgoAAAANSUhEUgAAAGAAAABgCAYAAADimHc4AAAABHNCSVQICAgIfAhkiAAAAbdJREFUeJzt3EFtgkEUAOG/TQ2ABCyABCyABJAAEsACFpAAEkACWEBCq2EOmzl0vvMrbDPZy8u2X9M0/U4D7XY7NH84HND88/lE89vtFs2P9m0f4L8rgKwAsgLICiArgKwAsgLICiArgKwAsq8J7oIWiwX6gsfjgeb3+z2a32w2aJ6ef7VaoXmqGyArgKwAsgLICiArgKwAsgLICiArgKwAsh/6A3SXQt/tXK9XNH+/39H87XZD8/Sd0vl8RvPdAFkBZAWQFUBWAFkBZAWQFUBWAFkBZAWQ4V3QbDZD83QXRH0+HzRPz0N/X6obICuArACyAsgKICuArACyAsgKICuArAAyvAuiu5f1ek2/Yih6/tG6AbICyAogK4CsALICyAogK4CsALICyAogG74LWi6XaJ7+Ddr7/Ubz9Dyj3zV1A2QFkBVAVgBZAWQFkBVAVgBZAWQFkBVAhndBdDdCdzWv1wvN0/8vRN8pXS4XNE91A2QFkBVAVgBZAWQFkBVAVgBZAWQFkBVAhndB1PF4RPOn0wnN03dK8/l86OdT3QBZAWQFkBVAVgBZAWQFkBVAVgBZAWQFkP0B3yhHzGxFAzAAAAAASUVORK5CYII=\" y=\"-50.329412\"/>\n   </g>\n   <g id=\"text_1\">\n    <!-- label:0 -->\n    <defs>\n     <path d=\"M 9.421875 75.984375 \nL 18.40625 75.984375 \nL 18.40625 0 \nL 9.421875 0 \nz\n\" id=\"DejaVuSans-108\"/>\n     <path d=\"M 34.28125 27.484375 \nQ 23.390625 27.484375 19.1875 25 \nQ 14.984375 22.515625 14.984375 16.5 \nQ 14.984375 11.71875 18.140625 8.90625 \nQ 21.296875 6.109375 26.703125 6.109375 \nQ 34.1875 6.109375 38.703125 11.40625 \nQ 43.21875 16.703125 43.21875 25.484375 \nL 43.21875 27.484375 \nz\nM 52.203125 31.203125 \nL 52.203125 0 \nL 43.21875 0 \nL 43.21875 8.296875 \nQ 40.140625 3.328125 35.546875 0.953125 \nQ 30.953125 -1.421875 24.3125 -1.421875 \nQ 15.921875 -1.421875 10.953125 3.296875 \nQ 6 8.015625 6 15.921875 \nQ 6 25.140625 12.171875 29.828125 \nQ 18.359375 34.515625 30.609375 34.515625 \nL 43.21875 34.515625 \nL 43.21875 35.40625 \nQ 43.21875 41.609375 39.140625 45 \nQ 35.0625 48.390625 27.6875 48.390625 \nQ 23 48.390625 18.546875 47.265625 \nQ 14.109375 46.140625 10.015625 43.890625 \nL 10.015625 52.203125 \nQ 14.9375 54.109375 19.578125 55.046875 \nQ 24.21875 56 28.609375 56 \nQ 40.484375 56 46.34375 49.84375 \nQ 52.203125 43.703125 52.203125 31.203125 \nz\n\" id=\"DejaVuSans-97\"/>\n     <path d=\"M 48.6875 27.296875 \nQ 48.6875 37.203125 44.609375 42.84375 \nQ 40.53125 48.484375 33.40625 48.484375 \nQ 26.265625 48.484375 22.1875 42.84375 \nQ 18.109375 37.203125 18.109375 27.296875 \nQ 18.109375 17.390625 22.1875 11.75 \nQ 26.265625 6.109375 33.40625 6.109375 \nQ 40.53125 6.109375 44.609375 11.75 \nQ 48.6875 17.390625 48.6875 27.296875 \nz\nM 18.109375 46.390625 \nQ 20.953125 51.265625 25.265625 53.625 \nQ 29.59375 56 35.59375 56 \nQ 45.5625 56 51.78125 48.09375 \nQ 58.015625 40.1875 58.015625 27.296875 \nQ 58.015625 14.40625 51.78125 6.484375 \nQ 45.5625 -1.421875 35.59375 -1.421875 \nQ 29.59375 -1.421875 25.265625 0.953125 \nQ 20.953125 3.328125 18.109375 8.203125 \nL 18.109375 0 \nL 9.078125 0 \nL 9.078125 75.984375 \nL 18.109375 75.984375 \nz\n\" id=\"DejaVuSans-98\"/>\n     <path d=\"M 56.203125 29.59375 \nL 56.203125 25.203125 \nL 14.890625 25.203125 \nQ 15.484375 15.921875 20.484375 11.0625 \nQ 25.484375 6.203125 34.421875 6.203125 \nQ 39.59375 6.203125 44.453125 7.46875 \nQ 49.3125 8.734375 54.109375 11.28125 \nL 54.109375 2.78125 \nQ 49.265625 0.734375 44.1875 -0.34375 \nQ 39.109375 -1.421875 33.890625 -1.421875 \nQ 20.796875 -1.421875 13.15625 6.1875 \nQ 5.515625 13.8125 5.515625 26.8125 \nQ 5.515625 40.234375 12.765625 48.109375 \nQ 20.015625 56 32.328125 56 \nQ 43.359375 56 49.78125 48.890625 \nQ 56.203125 41.796875 56.203125 29.59375 \nz\nM 47.21875 32.234375 \nQ 47.125 39.59375 43.09375 43.984375 \nQ 39.0625 48.390625 32.421875 48.390625 \nQ 24.90625 48.390625 20.390625 44.140625 \nQ 15.875 39.890625 15.1875 32.171875 \nz\n\" id=\"DejaVuSans-101\"/>\n     <path d=\"M 11.71875 12.40625 \nL 22.015625 12.40625 \nL 22.015625 0 \nL 11.71875 0 \nz\nM 11.71875 51.703125 \nL 22.015625 51.703125 \nL 22.015625 39.3125 \nL 11.71875 39.3125 \nz\n\" id=\"DejaVuSans-58\"/>\n     <path d=\"M 31.78125 66.40625 \nQ 24.171875 66.40625 20.328125 58.90625 \nQ 16.5 51.421875 16.5 36.375 \nQ 16.5 21.390625 20.328125 13.890625 \nQ 24.171875 6.390625 31.78125 6.390625 \nQ 39.453125 6.390625 43.28125 13.890625 \nQ 47.125 21.390625 47.125 36.375 \nQ 47.125 51.421875 43.28125 58.90625 \nQ 39.453125 66.40625 31.78125 66.40625 \nz\nM 31.78125 74.21875 \nQ 44.046875 74.21875 50.515625 64.515625 \nQ 56.984375 54.828125 56.984375 36.375 \nQ 56.984375 17.96875 50.515625 8.265625 \nQ 44.046875 -1.421875 31.78125 -1.421875 \nQ 19.53125 -1.421875 13.0625 8.265625 \nQ 6.59375 17.96875 6.59375 36.375 \nQ 6.59375 54.828125 13.0625 64.515625 \nQ 19.53125 74.21875 31.78125 74.21875 \nz\n\" id=\"DejaVuSans-48\"/>\n    </defs>\n    <g transform=\"translate(34.814393 44.4)scale(0.12 -0.12)\">\n     <use xlink:href=\"#DejaVuSans-108\"/>\n     <use x=\"27.783203\" xlink:href=\"#DejaVuSans-97\"/>\n     <use x=\"89.0625\" xlink:href=\"#DejaVuSans-98\"/>\n     <use x=\"152.539062\" xlink:href=\"#DejaVuSans-101\"/>\n     <use x=\"214.0625\" xlink:href=\"#DejaVuSans-108\"/>\n     <use x=\"241.845703\" xlink:href=\"#DejaVuSans-58\"/>\n     <use x=\"275.537109\" xlink:href=\"#DejaVuSans-48\"/>\n    </g>\n   </g>\n  </g>\n  <g id=\"axes_2\">\n   <g clip-path=\"url(#pf676dcd3ff)\">\n    <image height=\"96\" id=\"image59f46f15d1\" transform=\"scale(1 -1)translate(0 -96)\" width=\"96\" x=\"164.752941\" xlink:href=\"data:image/png;base64,\niVBORw0KGgoAAAANSUhEUgAAAGAAAABgCAYAAADimHc4AAAABHNCSVQICAgIfAhkiAAAAYBJREFUeJzt3TGthEAYReHZl+1BCk6wAA6QgBRwgAOQAE5wsFtv9XKLyaE4X/0HSE6mmcDwKqV8yoNs2xbN930fza/rGs0PwxDNp/6qXl3/MgDMADADwAwAMwDMADADwAwAMwDMALB37Ru0bRvNp3s7qeM4ql4/5QqAGQBmAJgBYAaAGQBmAJgBYAaAGQBmAJgBYAaAGQBmAJgBYAaAGQBmAJgBYAaAGQBmAFj194Ke5jxP+hF+uAJgBoAZAGYAmAFgBoAZAGYAmAFgBoAZABbvBU3TFM3P85zeoqr7vulH+OEKgBkAZgCYAWAGgBkAZgCYAWAGgBkAZgDYq1Q+O7rrumg+Pc+naZpofhzHaH5Zlmg+5QqAGQBmAJgBYAaAGQBmAJgBYAaAGQBmAFj1b8TSb7LSvaD0rOl0b6o2VwDMADADwAwAMwDMADADwAwAMwDMADADwB53XlD637HruqL5fd+j+dpcATADwAwAMwDMADADwAwAMwDMADADwAwA+wKPciVBkG3QIwAAAABJRU5ErkJggg==\" y=\"-50.329412\"/>\n   </g>\n   <g id=\"text_2\">\n    <!-- label:1 -->\n    <defs>\n     <path d=\"M 12.40625 8.296875 \nL 28.515625 8.296875 \nL 28.515625 63.921875 \nL 10.984375 60.40625 \nL 10.984375 69.390625 \nL 28.421875 72.90625 \nL 38.28125 72.90625 \nL 38.28125 8.296875 \nL 54.390625 8.296875 \nL 54.390625 0 \nL 12.40625 0 \nz\n\" id=\"DejaVuSans-49\"/>\n    </defs>\n    <g transform=\"translate(192.367335 44.4)scale(0.12 -0.12)\">\n     <use xlink:href=\"#DejaVuSans-108\"/>\n     <use x=\"27.783203\" xlink:href=\"#DejaVuSans-97\"/>\n     <use x=\"89.0625\" xlink:href=\"#DejaVuSans-98\"/>\n     <use x=\"152.539062\" xlink:href=\"#DejaVuSans-101\"/>\n     <use x=\"214.0625\" xlink:href=\"#DejaVuSans-108\"/>\n     <use x=\"241.845703\" xlink:href=\"#DejaVuSans-58\"/>\n     <use x=\"275.537109\" xlink:href=\"#DejaVuSans-49\"/>\n    </g>\n   </g>\n  </g>\n  <g id=\"axes_3\">\n   <g clip-path=\"url(#p5556baa7c4)\">\n    <image height=\"96\" id=\"image8c68701380\" transform=\"scale(1 -1)translate(0 -96)\" width=\"96\" x=\"322.305882\" xlink:href=\"data:image/png;base64,\niVBORw0KGgoAAAANSUhEUgAAAGAAAABgCAYAAADimHc4AAAABHNCSVQICAgIfAhkiAAAAbtJREFUeJzt3EGNg1AARVGYjIBKqANqAQUgAQl10EoAB5UACsABlYCEVsHMYhS8pD93FvesX9MmN3/zU6irqvqp/pHL5RLt7/d7tO+6LtpP0xTtr9drtP+K1vo4A8AMADMAzAAwA8AMADMAzAAwA8AMAPtOP5De1Twej2jfNE20Ty3LEu3XdS30S/54AmAGgBkAZgCYAWAGgBkAZgCYAWAGgBkAFt8FDcMQ7Uvf7fR9H+3Tu6DSPAEwA8AMADMAzAAwA8AMADMAzAAwA8AMAKur8Bmx0+kUfUH6zFR6t3M+n4vuX69XtE95AmAGgBkAZgCYAWAGgBkAZgCYAWAGgBkAFt8FpdK7o/QuaBzHaL9tW7RPf0/KEwAzAMwAMAPADAAzAMwAMAPADAAzAMwAsOJ3Qem7ndO7l3meo/3tdov2dV1H+5QnAGYAmAFgBoAZAGYAmAFgBoAZAGYAmAFgxe+C0ndN7/se7d/vd7RPn/lKnylLeQJgBoAZAGYAmAFgBoAZAGYAmAFgBoAZABa/Ozr1fD6jfdu20T79X9BxHNG+NE8AzAAwA8AMADMAzAAwA8AMADMAzAAwA8B+AcADOp0Cik9HAAAAAElFTkSuQmCC\" y=\"-50.329412\"/>\n   </g>\n   <g id=\"text_3\">\n    <!-- label:2 -->\n    <defs>\n     <path d=\"M 19.1875 8.296875 \nL 53.609375 8.296875 \nL 53.609375 0 \nL 7.328125 0 \nL 7.328125 8.296875 \nQ 12.9375 14.109375 22.625 23.890625 \nQ 32.328125 33.6875 34.8125 36.53125 \nQ 39.546875 41.84375 41.421875 45.53125 \nQ 43.3125 49.21875 43.3125 52.78125 \nQ 43.3125 58.59375 39.234375 62.25 \nQ 35.15625 65.921875 28.609375 65.921875 \nQ 23.96875 65.921875 18.8125 64.3125 \nQ 13.671875 62.703125 7.8125 59.421875 \nL 7.8125 69.390625 \nQ 13.765625 71.78125 18.9375 73 \nQ 24.125 74.21875 28.421875 74.21875 \nQ 39.75 74.21875 46.484375 68.546875 \nQ 53.21875 62.890625 53.21875 53.421875 \nQ 53.21875 48.921875 51.53125 44.890625 \nQ 49.859375 40.875 45.40625 35.40625 \nQ 44.1875 33.984375 37.640625 27.21875 \nQ 31.109375 20.453125 19.1875 8.296875 \nz\n\" id=\"DejaVuSans-50\"/>\n    </defs>\n    <g transform=\"translate(349.920276 44.4)scale(0.12 -0.12)\">\n     <use xlink:href=\"#DejaVuSans-108\"/>\n     <use x=\"27.783203\" xlink:href=\"#DejaVuSans-97\"/>\n     <use x=\"89.0625\" xlink:href=\"#DejaVuSans-98\"/>\n     <use x=\"152.539062\" xlink:href=\"#DejaVuSans-101\"/>\n     <use x=\"214.0625\" xlink:href=\"#DejaVuSans-108\"/>\n     <use x=\"241.845703\" xlink:href=\"#DejaVuSans-58\"/>\n     <use x=\"275.537109\" xlink:href=\"#DejaVuSans-50\"/>\n    </g>\n   </g>\n  </g>\n  <g id=\"axes_4\">\n   <g clip-path=\"url(#p5ba968b502)\">\n    <image height=\"96\" id=\"image5f534c0192\" transform=\"scale(1 -1)translate(0 -96)\" width=\"96\" x=\"7.2\" xlink:href=\"data:image/png;base64,\niVBORw0KGgoAAAANSUhEUgAAAGAAAABgCAYAAADimHc4AAAABHNCSVQICAgIfAhkiAAAAalJREFUeJzt3UGNg1AURmE6GQNYQAtIKBJAQrGABLSABSQUC0iYWVTA5F/cnGRyvvUNJTl5m5vX9tE0zU9T6PV6RfPTNBW9ycdxHNH8PM9Fb/LxVfp0/ckAMAPADAAzAMwAMAPADAAzAMwAMAPAvqs/oG3baD7dvaTP37Ytmk+l7+8JgBkAZgCYAWAGgBkAZgCYAWAGgBkAZgBY+S5oWZbS56e7oPRe0H3f0XzKEwAzAMwAMAPADAAzAMwAMAPADAAzAMwAsEdT/B2xVLrb2fe96E0+hmGI5tPdkScAZgCYAWAGgBkAZgCYAWAGgBkAZgCYAWDl94K6rovm3+93NJ/e8xnHMZr3XtA/ZwCYAWAGgBkAZgCYAWAGgBkAZgCYAWDxLijd7aS7lOu6ovnq96nmCYAZAGYAmAFgBoAZAGYAmAFgBoAZAGYAWLwLSv/n6/l8RvPrukbz6W9B930fzaf3jlKeAJgBYAaAGQBmAJgBYAaAGQBmAJgBYAaAxbug9Leg03s46W4nvUd0nmc0X80TADMAzAAwA8AMADMAzAAwA8AMADMAzACwXw4WP5hQ9P56AAAAAElFTkSuQmCC\" y=\"-165.444706\"/>\n   </g>\n   <g id=\"text_4\">\n    <!-- label:3 -->\n    <defs>\n     <path d=\"M 40.578125 39.3125 \nQ 47.65625 37.796875 51.625 33 \nQ 55.609375 28.21875 55.609375 21.1875 \nQ 55.609375 10.40625 48.1875 4.484375 \nQ 40.765625 -1.421875 27.09375 -1.421875 \nQ 22.515625 -1.421875 17.65625 -0.515625 \nQ 12.796875 0.390625 7.625 2.203125 \nL 7.625 11.71875 \nQ 11.71875 9.328125 16.59375 8.109375 \nQ 21.484375 6.890625 26.8125 6.890625 \nQ 36.078125 6.890625 40.9375 10.546875 \nQ 45.796875 14.203125 45.796875 21.1875 \nQ 45.796875 27.640625 41.28125 31.265625 \nQ 36.765625 34.90625 28.71875 34.90625 \nL 20.21875 34.90625 \nL 20.21875 43.015625 \nL 29.109375 43.015625 \nQ 36.375 43.015625 40.234375 45.921875 \nQ 44.09375 48.828125 44.09375 54.296875 \nQ 44.09375 59.90625 40.109375 62.90625 \nQ 36.140625 65.921875 28.71875 65.921875 \nQ 24.65625 65.921875 20.015625 65.03125 \nQ 15.375 64.15625 9.8125 62.3125 \nL 9.8125 71.09375 \nQ 15.4375 72.65625 20.34375 73.4375 \nQ 25.25 74.21875 29.59375 74.21875 \nQ 40.828125 74.21875 47.359375 69.109375 \nQ 53.90625 64.015625 53.90625 55.328125 \nQ 53.90625 49.265625 50.4375 45.09375 \nQ 46.96875 40.921875 40.578125 39.3125 \nz\n\" id=\"DejaVuSans-51\"/>\n    </defs>\n    <g transform=\"translate(34.814393 159.515294)scale(0.12 -0.12)\">\n     <use xlink:href=\"#DejaVuSans-108\"/>\n     <use x=\"27.783203\" xlink:href=\"#DejaVuSans-97\"/>\n     <use x=\"89.0625\" xlink:href=\"#DejaVuSans-98\"/>\n     <use x=\"152.539062\" xlink:href=\"#DejaVuSans-101\"/>\n     <use x=\"214.0625\" xlink:href=\"#DejaVuSans-108\"/>\n     <use x=\"241.845703\" xlink:href=\"#DejaVuSans-58\"/>\n     <use x=\"275.537109\" xlink:href=\"#DejaVuSans-51\"/>\n    </g>\n   </g>\n  </g>\n  <g id=\"axes_5\">\n   <g clip-path=\"url(#pcf7b52130e)\">\n    <image height=\"96\" id=\"imageebbd71c005\" transform=\"scale(1 -1)translate(0 -96)\" width=\"96\" x=\"164.752941\" xlink:href=\"data:image/png;base64,\niVBORw0KGgoAAAANSUhEUgAAAGAAAABgCAYAAADimHc4AAAABHNCSVQICAgIfAhkiAAAAbZJREFUeJzt3cGNgmAABWHc7B3twA5oATqwBFuwA0rADqAD6IAWqABK0Arc+14270CGbOY7v6jJ5L8QwFNRFJ/iQK7Xa7Rf1zXaN00T7ed5jvapr10/XX8yAMwAMAPADAAzAMwAMAPADAAzAMwAsG/6B/x2Pp+j/fv9jvb3+z3aey3onzMAzAAwA8AMADMAzAAwA8AMADMAzACwUxHeF1TXdfQF4zhG+7Iso/2yLNG+qqpof7lcov3r9Yr2ngCYAWAGgBkAZgCYAWAGgBkAZgCYAWAGgMX3BaXXatL9MAzRPr3P5/PJHom73W7Rvu/7aO8JgBkAZgCYAWAGgBkAZgCYAWAGgBkAZgBYfC1omqZo/3g8on3bttE+9Xw+o336/qKUJwBmAJgBYAaAGQBmAJgBYAaAGQBmAJgBYPEzYqn0/T/p+3m6rtv181PbtkV7TwDMADADwAwAMwDMADADwAwAMwDMADADwHZ/d3T6/pz0Gav0vp30Ws3ePAEwA8AMADMAzAAwA8AMADMAzAAwA8AMADvc/4il14LS/dF4AmAGgBkAZgCYAWAGgBkAZgCYAWAGgBkA9gM/XT27bkx6bAAAAABJRU5ErkJggg==\" y=\"-165.444706\"/>\n   </g>\n   <g id=\"text_5\">\n    <!-- label:4 -->\n    <defs>\n     <path d=\"M 37.796875 64.3125 \nL 12.890625 25.390625 \nL 37.796875 25.390625 \nz\nM 35.203125 72.90625 \nL 47.609375 72.90625 \nL 47.609375 25.390625 \nL 58.015625 25.390625 \nL 58.015625 17.1875 \nL 47.609375 17.1875 \nL 47.609375 0 \nL 37.796875 0 \nL 37.796875 17.1875 \nL 4.890625 17.1875 \nL 4.890625 26.703125 \nz\n\" id=\"DejaVuSans-52\"/>\n    </defs>\n    <g transform=\"translate(192.367335 159.515294)scale(0.12 -0.12)\">\n     <use xlink:href=\"#DejaVuSans-108\"/>\n     <use x=\"27.783203\" xlink:href=\"#DejaVuSans-97\"/>\n     <use x=\"89.0625\" xlink:href=\"#DejaVuSans-98\"/>\n     <use x=\"152.539062\" xlink:href=\"#DejaVuSans-101\"/>\n     <use x=\"214.0625\" xlink:href=\"#DejaVuSans-108\"/>\n     <use x=\"241.845703\" xlink:href=\"#DejaVuSans-58\"/>\n     <use x=\"275.537109\" xlink:href=\"#DejaVuSans-52\"/>\n    </g>\n   </g>\n  </g>\n  <g id=\"axes_6\">\n   <g clip-path=\"url(#p2b63f57a82)\">\n    <image height=\"96\" id=\"image7894c45d5e\" transform=\"scale(1 -1)translate(0 -96)\" width=\"96\" x=\"322.305882\" xlink:href=\"data:image/png;base64,\niVBORw0KGgoAAAANSUhEUgAAAGAAAABgCAYAAADimHc4AAAABHNCSVQICAgIfAhkiAAAAbFJREFUeJzt3bGNwlAQBmFzutwugRLcAbgCt+AOgA5cgl0CHdABlEIJuIK74IguQX+wmmS+eGU9afSSFTa7pml+mkLLskTzp9Op6CR/rtdrND9NU81B3r5Kn66PDAAzAMwAMAPADAAzAMwAMAPADAAzAGzXFO+CxnGM5rdti+bneY7mD4dDND8MQzT/eDyieW8AzAAwA8AMADMAzAAwA8AMADMAzAAwA8DKd0HVjsdjNH+/36P5dV2j+fP5HM17A2AGgBkAZgCYAWAGgBkAZgCYAWAGgBkA9k0f4L90t9P3fc1B3p7PZ+nzvQEwA8AMADMAzAAwA8AMADMAzAAwA8AMACvfBd1ut2g+facsdblcovn0e0cpbwDMADADwAwAMwDMADADwAwAMwDMADADwMp3Qfv9vvT56feF0t8RdV0Xzb9er2jeGwAzAMwAMAPADAAzAMwAMAPADAAzAMwAsPJdULpLSbVtG82n76Clu52UNwBmAJgBYAaAGQBmAJgBYAaAGQBmAJgBYOW7oPR7O+n/cFX/53s1bwDMADADwAwAMwDMADADwAwAMwDMADADwH4BCr0zZZ55fYgAAAAASUVORK5CYII=\" y=\"-165.444706\"/>\n   </g>\n   <g id=\"text_6\">\n    <!-- label:5 -->\n    <defs>\n     <path d=\"M 10.796875 72.90625 \nL 49.515625 72.90625 \nL 49.515625 64.59375 \nL 19.828125 64.59375 \nL 19.828125 46.734375 \nQ 21.96875 47.46875 24.109375 47.828125 \nQ 26.265625 48.1875 28.421875 48.1875 \nQ 40.625 48.1875 47.75 41.5 \nQ 54.890625 34.8125 54.890625 23.390625 \nQ 54.890625 11.625 47.5625 5.09375 \nQ 40.234375 -1.421875 26.90625 -1.421875 \nQ 22.3125 -1.421875 17.546875 -0.640625 \nQ 12.796875 0.140625 7.71875 1.703125 \nL 7.71875 11.625 \nQ 12.109375 9.234375 16.796875 8.0625 \nQ 21.484375 6.890625 26.703125 6.890625 \nQ 35.15625 6.890625 40.078125 11.328125 \nQ 45.015625 15.765625 45.015625 23.390625 \nQ 45.015625 31 40.078125 35.4375 \nQ 35.15625 39.890625 26.703125 39.890625 \nQ 22.75 39.890625 18.8125 39.015625 \nQ 14.890625 38.140625 10.796875 36.28125 \nz\n\" id=\"DejaVuSans-53\"/>\n    </defs>\n    <g transform=\"translate(349.920276 159.515294)scale(0.12 -0.12)\">\n     <use xlink:href=\"#DejaVuSans-108\"/>\n     <use x=\"27.783203\" xlink:href=\"#DejaVuSans-97\"/>\n     <use x=\"89.0625\" xlink:href=\"#DejaVuSans-98\"/>\n     <use x=\"152.539062\" xlink:href=\"#DejaVuSans-101\"/>\n     <use x=\"214.0625\" xlink:href=\"#DejaVuSans-108\"/>\n     <use x=\"241.845703\" xlink:href=\"#DejaVuSans-58\"/>\n     <use x=\"275.537109\" xlink:href=\"#DejaVuSans-53\"/>\n    </g>\n   </g>\n  </g>\n  <g id=\"axes_7\">\n   <g clip-path=\"url(#p858e0a4bc4)\">\n    <image height=\"96\" id=\"image3b813bfdbe\" transform=\"scale(1 -1)translate(0 -96)\" width=\"96\" x=\"7.2\" xlink:href=\"data:image/png;base64,\niVBORw0KGgoAAAANSUhEUgAAAGAAAABgCAYAAADimHc4AAAABHNCSVQICAgIfAhkiAAAAZdJREFUeJzt3VFthEAARdHZpv8gAQcgAQlIwAESQBI4QAISkICDVsNLOrk0uef7Jd3kZn4mO91PKeWnVNS2bbTfti3az/Mc7c/zjPbp57muK9p/RWv9OQPADAAzAMwAMAPADAAzAMwAMAPADAD7rv0H0ruaZVmi/XEc0X4cx2g/TVO09y7onzEAzAAwA8AMADMAzAAwA8AMADMAzACw190Fpbqui/ZN00T7fd+jfcoTADMAzAAwA8AMADMAzAAwA8AMADMAzACwT6n8Rux5nmiffq8mvatJ9/d9R/uUJwBmAJgBYAaAGQBmAJgBYAaAGQBmAJgBYNXvgtK7lPTuaBiGaP82ngCYAWAGgBkAZgCYAWAGgBkAZgCYAWAGgFV/I5be7fR9H+3Tu6D0e0e1eQJgBoAZAGYAmAFgBoAZAGYAmAFgBoAZAFb9Lmhd12ifvuGq/b+da/MEwAwAMwDMADADwAwAMwDMADADwAwAMwCs+huxVPqb7+lv1r/tTZknAGYAmAFgBoAZAGYAmAFgBoAZAGYAmAFgv/fWPGiduslvAAAAAElFTkSuQmCC\" y=\"-280.56\"/>\n   </g>\n   <g id=\"text_7\">\n    <!-- label:6 -->\n    <defs>\n     <path d=\"M 33.015625 40.375 \nQ 26.375 40.375 22.484375 35.828125 \nQ 18.609375 31.296875 18.609375 23.390625 \nQ 18.609375 15.53125 22.484375 10.953125 \nQ 26.375 6.390625 33.015625 6.390625 \nQ 39.65625 6.390625 43.53125 10.953125 \nQ 47.40625 15.53125 47.40625 23.390625 \nQ 47.40625 31.296875 43.53125 35.828125 \nQ 39.65625 40.375 33.015625 40.375 \nz\nM 52.59375 71.296875 \nL 52.59375 62.3125 \nQ 48.875 64.0625 45.09375 64.984375 \nQ 41.3125 65.921875 37.59375 65.921875 \nQ 27.828125 65.921875 22.671875 59.328125 \nQ 17.53125 52.734375 16.796875 39.40625 \nQ 19.671875 43.65625 24.015625 45.921875 \nQ 28.375 48.1875 33.59375 48.1875 \nQ 44.578125 48.1875 50.953125 41.515625 \nQ 57.328125 34.859375 57.328125 23.390625 \nQ 57.328125 12.15625 50.6875 5.359375 \nQ 44.046875 -1.421875 33.015625 -1.421875 \nQ 20.359375 -1.421875 13.671875 8.265625 \nQ 6.984375 17.96875 6.984375 36.375 \nQ 6.984375 53.65625 15.1875 63.9375 \nQ 23.390625 74.21875 37.203125 74.21875 \nQ 40.921875 74.21875 44.703125 73.484375 \nQ 48.484375 72.75 52.59375 71.296875 \nz\n\" id=\"DejaVuSans-54\"/>\n    </defs>\n    <g transform=\"translate(34.814393 274.630588)scale(0.12 -0.12)\">\n     <use xlink:href=\"#DejaVuSans-108\"/>\n     <use x=\"27.783203\" xlink:href=\"#DejaVuSans-97\"/>\n     <use x=\"89.0625\" xlink:href=\"#DejaVuSans-98\"/>\n     <use x=\"152.539062\" xlink:href=\"#DejaVuSans-101\"/>\n     <use x=\"214.0625\" xlink:href=\"#DejaVuSans-108\"/>\n     <use x=\"241.845703\" xlink:href=\"#DejaVuSans-58\"/>\n     <use x=\"275.537109\" xlink:href=\"#DejaVuSans-54\"/>\n    </g>\n   </g>\n  </g>\n  <g id=\"axes_8\">\n   <g clip-path=\"url(#pf6d2813a85)\">\n    <image height=\"96\" id=\"image7bfe2e509f\" transform=\"scale(1 -1)translate(0 -96)\" width=\"96\" x=\"164.752941\" xlink:href=\"data:image/png;base64,\niVBORw0KGgoAAAANSUhEUgAAAGAAAABgCAYAAADimHc4AAAABHNCSVQICAgIfAhkiAAAAZ1JREFUeJzt3UGNhEAUBuGezQhAAg6wgASk4AALSAAH4AAJSAEF7GEV/IdOkWx955fdTip96bwwn1LKUyo6zzOan6Ypmt/3PZp/mx/6AP+dAWAGgBkAZgCYAWAGgBkAZgCYAWAGgH1r/4PjOKL5dV2j+bZto/nruqL52rwBMAPADAAzAMwAMAPADAAzAMwAMAPADAD7lMp7QannyY4zDEM0/7Y9Im8AzAAwA8AMADMAzAAwA8AMADMAzAAwA8Dit6B0D2ee52i+7/toPpW+HaV7TSlvAMwAMAPADAAzAMwAMAPADAAzAMwAMAPA4reg9K2m9tvOOI6v+vvLskTz3gCYAWAGgBkAZgCYAWAGgBkAZgCYAWAGgMXfC0r3ZGrv1aTSvaBt2yqd5I83AGYAmAFgBoAZAGYAmAFgBoAZAGYAmAFg1b8XVHtvJ/2dsvQ8TdNE8+kelDcAZgCYAWAGgBkAZgCYAWAGgBkAZgCYAWDVf0cslb69pN8j6roumr/vO5pPz+8NgBkAZgCYAWAGgBkAZgCYAWAGgBkAZgDYL6lOOABGpUQhAAAAAElFTkSuQmCC\" y=\"-280.56\"/>\n   </g>\n   <g id=\"text_8\">\n    <!-- label:7 -->\n    <defs>\n     <path d=\"M 8.203125 72.90625 \nL 55.078125 72.90625 \nL 55.078125 68.703125 \nL 28.609375 0 \nL 18.3125 0 \nL 43.21875 64.59375 \nL 8.203125 64.59375 \nz\n\" id=\"DejaVuSans-55\"/>\n    </defs>\n    <g transform=\"translate(192.367335 274.630588)scale(0.12 -0.12)\">\n     <use xlink:href=\"#DejaVuSans-108\"/>\n     <use x=\"27.783203\" xlink:href=\"#DejaVuSans-97\"/>\n     <use x=\"89.0625\" xlink:href=\"#DejaVuSans-98\"/>\n     <use x=\"152.539062\" xlink:href=\"#DejaVuSans-101\"/>\n     <use x=\"214.0625\" xlink:href=\"#DejaVuSans-108\"/>\n     <use x=\"241.845703\" xlink:href=\"#DejaVuSans-58\"/>\n     <use x=\"275.537109\" xlink:href=\"#DejaVuSans-55\"/>\n    </g>\n   </g>\n  </g>\n  <g id=\"axes_9\">\n   <g clip-path=\"url(#p69e73ea91f)\">\n    <image height=\"96\" id=\"imaged6517fa69d\" transform=\"scale(1 -1)translate(0 -96)\" width=\"96\" x=\"322.305882\" xlink:href=\"data:image/png;base64,\niVBORw0KGgoAAAANSUhEUgAAAGAAAABgCAYAAADimHc4AAAABHNCSVQICAgIfAhkiAAAAb1JREFUeJzt3FFtg1AARmG67B0kUCc4qAUkVEJxgITWAQ6gCgAHSGgVbC8z8Ce9OVlyvud/XZOT+3JDOVVV9VMVNE1TtL9cLtH+/X5H+2VZon3f99H+9XpF+69orY8zAMwAMAPADAAzAMwAMAPADAAzAMwAsFMV3gU1TRP9g+M4on3btkX367pG+2EYov3tdov2ngCYAWAGgBkAZgCYAWAGgBkAZgCYAWAGgH2nf5DevdR1He2v12u0T7/Pvu/R/n6/R/uUJwBmAJgBYAaAGQBmAJgBYAaAGQBmAJgBYPFzQamu66L9PM9lvsif8/kc7dPnmlKeAJgBYAaAGQBmAJgBYAaAGQBmAJgBYAaAxc8FpdL356Sez2e0T98XlN5lpXdHngCYAWAGgBkAZgCYAWAGgBkAZgCYAWAGgBW/C0rfvfx4PIp+fno3lf4Gzbugf8YAMAPADAAzAMwAMAPADAAzAMwAMAPAiv9GLH0OJ717SaV3NelzQSlPAMwAMAPADAAzAMwAMAPADAAzAMwAMAPAij8XtG1btE/vgtJ3O4/jGO1L8wTADAAzAMwAMAPADAAzAMwAMAPADAAzAOwXRL9HV/4v8kgAAAAASUVORK5CYII=\" y=\"-280.56\"/>\n   </g>\n   <g id=\"text_9\">\n    <!-- label:8 -->\n    <defs>\n     <path d=\"M 31.78125 34.625 \nQ 24.75 34.625 20.71875 30.859375 \nQ 16.703125 27.09375 16.703125 20.515625 \nQ 16.703125 13.921875 20.71875 10.15625 \nQ 24.75 6.390625 31.78125 6.390625 \nQ 38.8125 6.390625 42.859375 10.171875 \nQ 46.921875 13.96875 46.921875 20.515625 \nQ 46.921875 27.09375 42.890625 30.859375 \nQ 38.875 34.625 31.78125 34.625 \nz\nM 21.921875 38.8125 \nQ 15.578125 40.375 12.03125 44.71875 \nQ 8.5 49.078125 8.5 55.328125 \nQ 8.5 64.0625 14.71875 69.140625 \nQ 20.953125 74.21875 31.78125 74.21875 \nQ 42.671875 74.21875 48.875 69.140625 \nQ 55.078125 64.0625 55.078125 55.328125 \nQ 55.078125 49.078125 51.53125 44.71875 \nQ 48 40.375 41.703125 38.8125 \nQ 48.828125 37.15625 52.796875 32.3125 \nQ 56.78125 27.484375 56.78125 20.515625 \nQ 56.78125 9.90625 50.3125 4.234375 \nQ 43.84375 -1.421875 31.78125 -1.421875 \nQ 19.734375 -1.421875 13.25 4.234375 \nQ 6.78125 9.90625 6.78125 20.515625 \nQ 6.78125 27.484375 10.78125 32.3125 \nQ 14.796875 37.15625 21.921875 38.8125 \nz\nM 18.3125 54.390625 \nQ 18.3125 48.734375 21.84375 45.5625 \nQ 25.390625 42.390625 31.78125 42.390625 \nQ 38.140625 42.390625 41.71875 45.5625 \nQ 45.3125 48.734375 45.3125 54.390625 \nQ 45.3125 60.0625 41.71875 63.234375 \nQ 38.140625 66.40625 31.78125 66.40625 \nQ 25.390625 66.40625 21.84375 63.234375 \nQ 18.3125 60.0625 18.3125 54.390625 \nz\n\" id=\"DejaVuSans-56\"/>\n    </defs>\n    <g transform=\"translate(349.920276 274.630588)scale(0.12 -0.12)\">\n     <use xlink:href=\"#DejaVuSans-108\"/>\n     <use x=\"27.783203\" xlink:href=\"#DejaVuSans-97\"/>\n     <use x=\"89.0625\" xlink:href=\"#DejaVuSans-98\"/>\n     <use x=\"152.539062\" xlink:href=\"#DejaVuSans-101\"/>\n     <use x=\"214.0625\" xlink:href=\"#DejaVuSans-108\"/>\n     <use x=\"241.845703\" xlink:href=\"#DejaVuSans-58\"/>\n     <use x=\"275.537109\" xlink:href=\"#DejaVuSans-56\"/>\n    </g>\n   </g>\n  </g>\n  <g id=\"text_10\">\n   <!-- The MNIST dataset -->\n   <defs>\n    <path d=\"M -0.296875 72.90625 \nL 61.375 72.90625 \nL 61.375 64.59375 \nL 35.5 64.59375 \nL 35.5 0 \nL 25.59375 0 \nL 25.59375 64.59375 \nL -0.296875 64.59375 \nz\n\" id=\"DejaVuSans-84\"/>\n    <path d=\"M 54.890625 33.015625 \nL 54.890625 0 \nL 45.90625 0 \nL 45.90625 32.71875 \nQ 45.90625 40.484375 42.875 44.328125 \nQ 39.84375 48.1875 33.796875 48.1875 \nQ 26.515625 48.1875 22.3125 43.546875 \nQ 18.109375 38.921875 18.109375 30.90625 \nL 18.109375 0 \nL 9.078125 0 \nL 9.078125 75.984375 \nL 18.109375 75.984375 \nL 18.109375 46.1875 \nQ 21.34375 51.125 25.703125 53.5625 \nQ 30.078125 56 35.796875 56 \nQ 45.21875 56 50.046875 50.171875 \nQ 54.890625 44.34375 54.890625 33.015625 \nz\n\" id=\"DejaVuSans-104\"/>\n    <path id=\"DejaVuSans-32\"/>\n    <path d=\"M 9.8125 72.90625 \nL 24.515625 72.90625 \nL 43.109375 23.296875 \nL 61.8125 72.90625 \nL 76.515625 72.90625 \nL 76.515625 0 \nL 66.890625 0 \nL 66.890625 64.015625 \nL 48.09375 14.015625 \nL 38.1875 14.015625 \nL 19.390625 64.015625 \nL 19.390625 0 \nL 9.8125 0 \nz\n\" id=\"DejaVuSans-77\"/>\n    <path d=\"M 9.8125 72.90625 \nL 23.09375 72.90625 \nL 55.421875 11.921875 \nL 55.421875 72.90625 \nL 64.984375 72.90625 \nL 64.984375 0 \nL 51.703125 0 \nL 19.390625 60.984375 \nL 19.390625 0 \nL 9.8125 0 \nz\n\" id=\"DejaVuSans-78\"/>\n    <path d=\"M 9.8125 72.90625 \nL 19.671875 72.90625 \nL 19.671875 0 \nL 9.8125 0 \nz\n\" id=\"DejaVuSans-73\"/>\n    <path d=\"M 53.515625 70.515625 \nL 53.515625 60.890625 \nQ 47.90625 63.578125 42.921875 64.890625 \nQ 37.9375 66.21875 33.296875 66.21875 \nQ 25.25 66.21875 20.875 63.09375 \nQ 16.5 59.96875 16.5 54.203125 \nQ 16.5 49.359375 19.40625 46.890625 \nQ 22.3125 44.4375 30.421875 42.921875 \nL 36.375 41.703125 \nQ 47.40625 39.59375 52.65625 34.296875 \nQ 57.90625 29 57.90625 20.125 \nQ 57.90625 9.515625 50.796875 4.046875 \nQ 43.703125 -1.421875 29.984375 -1.421875 \nQ 24.8125 -1.421875 18.96875 -0.25 \nQ 13.140625 0.921875 6.890625 3.21875 \nL 6.890625 13.375 \nQ 12.890625 10.015625 18.65625 8.296875 \nQ 24.421875 6.59375 29.984375 6.59375 \nQ 38.421875 6.59375 43.015625 9.90625 \nQ 47.609375 13.234375 47.609375 19.390625 \nQ 47.609375 24.75 44.3125 27.78125 \nQ 41.015625 30.8125 33.5 32.328125 \nL 27.484375 33.5 \nQ 16.453125 35.6875 11.515625 40.375 \nQ 6.59375 45.0625 6.59375 53.421875 \nQ 6.59375 63.09375 13.40625 68.65625 \nQ 20.21875 74.21875 32.171875 74.21875 \nQ 37.3125 74.21875 42.625 73.28125 \nQ 47.953125 72.359375 53.515625 70.515625 \nz\n\" id=\"DejaVuSans-83\"/>\n    <path d=\"M 45.40625 46.390625 \nL 45.40625 75.984375 \nL 54.390625 75.984375 \nL 54.390625 0 \nL 45.40625 0 \nL 45.40625 8.203125 \nQ 42.578125 3.328125 38.25 0.953125 \nQ 33.9375 -1.421875 27.875 -1.421875 \nQ 17.96875 -1.421875 11.734375 6.484375 \nQ 5.515625 14.40625 5.515625 27.296875 \nQ 5.515625 40.1875 11.734375 48.09375 \nQ 17.96875 56 27.875 56 \nQ 33.9375 56 38.25 53.625 \nQ 42.578125 51.265625 45.40625 46.390625 \nz\nM 14.796875 27.296875 \nQ 14.796875 17.390625 18.875 11.75 \nQ 22.953125 6.109375 30.078125 6.109375 \nQ 37.203125 6.109375 41.296875 11.75 \nQ 45.40625 17.390625 45.40625 27.296875 \nQ 45.40625 37.203125 41.296875 42.84375 \nQ 37.203125 48.484375 30.078125 48.484375 \nQ 22.953125 48.484375 18.875 42.84375 \nQ 14.796875 37.203125 14.796875 27.296875 \nz\n\" id=\"DejaVuSans-100\"/>\n    <path d=\"M 18.3125 70.21875 \nL 18.3125 54.6875 \nL 36.8125 54.6875 \nL 36.8125 47.703125 \nL 18.3125 47.703125 \nL 18.3125 18.015625 \nQ 18.3125 11.328125 20.140625 9.421875 \nQ 21.96875 7.515625 27.59375 7.515625 \nL 36.8125 7.515625 \nL 36.8125 0 \nL 27.59375 0 \nQ 17.1875 0 13.234375 3.875 \nQ 9.28125 7.765625 9.28125 18.015625 \nL 9.28125 47.703125 \nL 2.6875 47.703125 \nL 2.6875 54.6875 \nL 9.28125 54.6875 \nL 9.28125 70.21875 \nz\n\" id=\"DejaVuSans-116\"/>\n    <path d=\"M 44.28125 53.078125 \nL 44.28125 44.578125 \nQ 40.484375 46.53125 36.375 47.5 \nQ 32.28125 48.484375 27.875 48.484375 \nQ 21.1875 48.484375 17.84375 46.4375 \nQ 14.5 44.390625 14.5 40.28125 \nQ 14.5 37.15625 16.890625 35.375 \nQ 19.28125 33.59375 26.515625 31.984375 \nL 29.59375 31.296875 \nQ 39.15625 29.25 43.1875 25.515625 \nQ 47.21875 21.78125 47.21875 15.09375 \nQ 47.21875 7.46875 41.1875 3.015625 \nQ 35.15625 -1.421875 24.609375 -1.421875 \nQ 20.21875 -1.421875 15.453125 -0.5625 \nQ 10.6875 0.296875 5.421875 2 \nL 5.421875 11.28125 \nQ 10.40625 8.6875 15.234375 7.390625 \nQ 20.0625 6.109375 24.8125 6.109375 \nQ 31.15625 6.109375 34.5625 8.28125 \nQ 37.984375 10.453125 37.984375 14.40625 \nQ 37.984375 18.0625 35.515625 20.015625 \nQ 33.0625 21.96875 24.703125 23.78125 \nL 21.578125 24.515625 \nQ 13.234375 26.265625 9.515625 29.90625 \nQ 5.8125 33.546875 5.8125 39.890625 \nQ 5.8125 47.609375 11.28125 51.796875 \nQ 16.75 56 26.8125 56 \nQ 31.78125 56 36.171875 55.265625 \nQ 40.578125 54.546875 44.28125 53.078125 \nz\n\" id=\"DejaVuSans-115\"/>\n   </defs>\n   <g transform=\"translate(148.950772 16.318125)scale(0.12 -0.12)\">\n    <use xlink:href=\"#DejaVuSans-84\"/>\n    <use x=\"61.083984\" xlink:href=\"#DejaVuSans-104\"/>\n    <use x=\"124.462891\" xlink:href=\"#DejaVuSans-101\"/>\n    <use x=\"185.986328\" xlink:href=\"#DejaVuSans-32\"/>\n    <use x=\"217.773438\" xlink:href=\"#DejaVuSans-77\"/>\n    <use x=\"304.052734\" xlink:href=\"#DejaVuSans-78\"/>\n    <use x=\"378.857422\" xlink:href=\"#DejaVuSans-73\"/>\n    <use x=\"408.349609\" xlink:href=\"#DejaVuSans-83\"/>\n    <use x=\"471.826172\" xlink:href=\"#DejaVuSans-84\"/>\n    <use x=\"532.910156\" xlink:href=\"#DejaVuSans-32\"/>\n    <use x=\"564.697266\" xlink:href=\"#DejaVuSans-100\"/>\n    <use x=\"628.173828\" xlink:href=\"#DejaVuSans-97\"/>\n    <use x=\"689.453125\" xlink:href=\"#DejaVuSans-116\"/>\n    <use x=\"728.662109\" xlink:href=\"#DejaVuSans-97\"/>\n    <use x=\"789.941406\" xlink:href=\"#DejaVuSans-115\"/>\n    <use x=\"842.041016\" xlink:href=\"#DejaVuSans-101\"/>\n    <use x=\"903.564453\" xlink:href=\"#DejaVuSans-116\"/>\n   </g>\n  </g>\n </g>\n <defs>\n  <clipPath id=\"p33c4faf25c\">\n   <rect height=\"95.929412\" width=\"95.929412\" x=\"7.2\" y=\"50.4\"/>\n  </clipPath>\n  <clipPath id=\"pf676dcd3ff\">\n   <rect height=\"95.929412\" width=\"95.929412\" x=\"164.752941\" y=\"50.4\"/>\n  </clipPath>\n  <clipPath id=\"p5556baa7c4\">\n   <rect height=\"95.929412\" width=\"95.929412\" x=\"322.305882\" y=\"50.4\"/>\n  </clipPath>\n  <clipPath id=\"p5ba968b502\">\n   <rect height=\"95.929412\" width=\"95.929412\" x=\"7.2\" y=\"165.515294\"/>\n  </clipPath>\n  <clipPath id=\"pcf7b52130e\">\n   <rect height=\"95.929412\" width=\"95.929412\" x=\"164.752941\" y=\"165.515294\"/>\n  </clipPath>\n  <clipPath id=\"p2b63f57a82\">\n   <rect height=\"95.929412\" width=\"95.929412\" x=\"322.305882\" y=\"165.515294\"/>\n  </clipPath>\n  <clipPath id=\"p858e0a4bc4\">\n   <rect height=\"95.929412\" width=\"95.929412\" x=\"7.2\" y=\"280.630588\"/>\n  </clipPath>\n  <clipPath id=\"pf6d2813a85\">\n   <rect height=\"95.929412\" width=\"95.929412\" x=\"164.752941\" y=\"280.630588\"/>\n  </clipPath>\n  <clipPath id=\"p69e73ea91f\">\n   <rect height=\"95.929412\" width=\"95.929412\" x=\"322.305882\" y=\"280.630588\"/>\n  </clipPath>\n </defs>\n</svg>\n",
      "image/png": "[encoded data removed]"
     },
     "metadata": {
      "needs_background": "light"
     }
    }
   ],
   "source": [
    "plt.figure(figsize=(8,6))\n",
    "plt.style.use('fast')\n",
    "plt.suptitle('The MNIST dataset')\n",
    "for i in range(9):\n",
    "    plt.subplot(3, 3, i+1)\n",
    "    plt.imshow(X[i].reshape((8,8)), cmap='gray')\n",
    "    plt.title(f'label:{y[i]}')\n",
    "    plt.axis('off')"
   ]
  },
  {
   "cell_type": "code",
   "execution_count": 23,
   "metadata": {
    "ExecuteTime": {
     "end_time": "2021-02-11T18:36:02.726645Z",
     "start_time": "2021-02-11T18:35:59.411658Z"
    }
   },
   "outputs": [],
   "source": [
    "from CarbonAImpact import PowerMeter"
   ]
  },
  {
   "cell_type": "code",
   "execution_count": 9,
   "metadata": {
    "ExecuteTime": {
     "end_time": "2021-02-11T18:36:02.747051Z",
     "start_time": "2021-02-11T18:36:02.729009Z"
    }
   },
   "outputs": [
    {
     "output_type": "stream",
     "name": "stdout",
     "text": [
      "Help on class PowerMeter in module CarbonAImpact.PowerMeter:\n\nclass PowerMeter(builtins.object)\n |  PowerMeter(project_name='', program_name='', client_name='', cpu_power_log_path='', get_country=True, user_name='', filepath=None, api_endpoint=None, location='', is_online=True, output_format='csv')\n |  \n |  PowerMeter is a general tool to monitor and log the power consumption of any given function.\n |  \n |  Parameters\n |  ----------\n |  - project_name (optional) : str\n |      Name of the project you are working on (default is folder_name)\n |  - cpu_power_log_path (optional) : str\n |      The path to the tool \"PowerLog\"\n |  - get_country (optional) : bool\n |      Whether use user country location or not\n |  - user_name (optional) : str\n |      The name of the user using the tool (for logging purpose)\n |  - filepath (optional) : str\n |      Path of the file where all the green ai logs are written\n |  - api_endpoint (optional):\n |      Endpoint of the API\n |  \n |  Methods defined here:\n |  \n |  __call__(self, package, algorithm, data_type='', data_shape='', algorithm_params='', comments='', step='other')\n |      The function used by the with statement\n |      \n |      Parameters\n |      ----------\n |      package : str\n |          A string describing the package used by this function (e.g. sklearn, Pytorch, ...)\n |      algorithm : str\n |          A string describing the algorithm used in the function monitored (e.g. RandomForestClassifier, ResNet121, ...)\n |      data_type : str (among : tabular, image, text, time series, other)\n |          A string describing the type of data used for training\n |      data_shape : str or tuple\n |          A string or tuple describing the quantity of data used\n |      algorithm_params (optional) : str\n |          A string describing the parameters used by the algorithm\n |      comments (optional) : str\n |          A string to provide any useful information\n |  \n |  __enter__(self)\n |  \n |  __exit__(self, type, value, traceback)\n |  \n |  __init__(self, project_name='', program_name='', client_name='', cpu_power_log_path='', get_country=True, user_name='', filepath=None, api_endpoint=None, location='', is_online=True, output_format='csv')\n |      Initialize self.  See help(type(self)) for accurate signature.\n |  \n |  measure_power(self, package, algorithm, data_type='', data_shape='', algorithm_params='', comments='', step='other')\n |      A decorator to measure the power consumption of a given function\n |      \n |      Parameters\n |      ----------\n |      package : str\n |          A string describing the package used by this function (e.g. sklearn, Pytorch, ...)\n |      algorithm : str\n |          A string describing the algorithm used in the function monitored (e.g. RandomForestClassifier, ResNet121, ...)\n |      data_type : str (among : tabular, image, text, time series, other)\n |          A string describing the type of data used for training\n |      data_shape : str or tuple\n |          A string or tuple describing the quantity of data used\n |      algorithm_params (optional) : str\n |          A string describing the parameters used by the algorithm\n |      comments (optional) : str\n |          A string to provide any useful information\n |      step (optional) : str\n |          A string to provide useful information such as 'preprocessing', 'inference', 'run'\n |      \n |      Returns\n |      -------\n |  \n |  start_measure(self, package, algorithm, data_type='', data_shape='', algorithm_params='', comments='', step='other')\n |      Starts mesuring the power consumption of a given sample of code\n |      \n |      Parameters\n |      ----------\n |      package : str\n |          A string describing the package used by this function (e.g. sklearn, Pytorch, ...)\n |      algorithm : str\n |          A string describing the algorithm used in the function monitored (e.g. RandomForestClassifier, ResNet121, ...)\n |      data_type : str (among : tabular, image, text, time series, other)\n |          A string describing the type of data used for training\n |      data_shape : str or tuple\n |          A string or tuple describing the quantity of data used\n |      algorithm_params (optional) : str\n |          A string describing the parameters used by the algorithm\n |      comments (optional) : str\n |          A string to provide any useful information\n |  \n |  stop_measure(self)\n |      Stops the measure started with start_measure\n |  \n |  ----------------------------------------------------------------------\n |  Class methods defined here:\n |  \n |  from_config(path) from builtins.type\n |  \n |  ----------------------------------------------------------------------\n |  Data descriptors defined here:\n |  \n |  __dict__\n |      dictionary for instance variables (if defined)\n |  \n |  __weakref__\n |      list of weak references to the object (if defined)\n |  \n |  ----------------------------------------------------------------------\n |  Data and other attributes defined here:\n |  \n |  DATETIME_FORMAT = '%m/%d/%Y %H:%M:%S'\n |  \n |  DEFAULT_LOCATION = 'FR'\n |  \n |  LAPTOP_PUE = 1.3\n |  \n |  SERVER_PUE = 1.58\n\n"
     ]
    }
   ],
   "source": [
    "help(PowerMeter)"
   ]
  },
  {
   "cell_type": "code",
   "execution_count": 10,
   "metadata": {
    "ExecuteTime": {
     "end_time": "2021-02-11T18:36:05.095493Z",
     "start_time": "2021-02-11T18:36:02.754756Z"
    }
   },
   "outputs": [],
   "source": [
    "# imports\n",
    "from CarbonAImpact import PowerMeter #Our package"
   ]
  },
  {
   "cell_type": "code",
   "execution_count": 17,
   "metadata": {
    "ExecuteTime": {
     "end_time": "2021-02-11T18:36:05.118273Z",
     "start_time": "2021-02-11T18:36:05.097901Z"
    }
   },
   "outputs": [],
   "source": [
    "# Creates a power meter object that contains information relative to the current project\n",
    "# You need to do this step no matter how you use the package\n",
    "power_meter = PowerMeter(project_name=\"example\", program_name=\"CarbonAImpact\", client_name=\"IDE\", is_online=False, location=\"FR\")"
   ]
  },
  {
   "cell_type": "code",
   "execution_count": 24,
   "metadata": {
    "ExecuteTime": {
     "end_time": "2021-02-11T18:36:05.138681Z",
     "start_time": "2021-02-11T18:36:05.121214Z"
    }
   },
   "outputs": [],
   "source": [
    "# Creates a power meter object that contains information relative to the current project\n",
    "# You need to do this step no matter how you use the package\n",
    "power_meter = PowerMeter.from_config(path=\"config.json\")"
   ]
  },
  {
   "cell_type": "markdown",
   "metadata": {},
   "source": [
    "## Function decorator"
   ]
  },
  {
   "cell_type": "code",
   "execution_count": 25,
   "metadata": {
    "ExecuteTime": {
     "end_time": "2020-06-15T13:51:34.110741Z",
     "start_time": "2020-06-15T13:51:34.099481Z"
    }
   },
   "outputs": [],
   "source": [
    "# Add a decorator to the main function to measure power usage of this function each time it is called\n",
    "@power_meter.measure_power(\n",
    "  package=\"sklearn\",\n",
    "  algorithm=\"SGDClassifier\",\n",
    "  data_type=\"tabular/images\",\n",
    "  data_shape=\"(1797, 64)\",\n",
    "  algorithm_params=\"loss='log', alpha=1e-5\",\n",
    "  comments=\"10 fold cross validated training of logistic regression classifier trained on the MNIST dataset\"\n",
    ")\n",
    "def cross_val_mnist(alpha, random_state=0):\n",
    "    # load data\n",
    "    mnist = datasets.load_digits()\n",
    "    X = mnist.data\n",
    "    y = mnist.target\n",
    "    # Classifier\n",
    "    clf = SGDClassifier(loss='log', alpha=alpha, random_state=random_state)\n",
    "    # Cross val\n",
    "    cv = StratifiedKFold(10, random_state=random_state, shuffle=True)\n",
    "    cv_results = cross_validate(clf, X, y, cv=cv)\n",
    "    # print results\n",
    "    print(cv_results['test_score'].mean(), cv_results['test_score'].std())\n",
    "    return cv_results"
   ]
  },
  {
   "cell_type": "code",
   "execution_count": 26,
   "metadata": {
    "ExecuteTime": {
     "end_time": "2020-06-15T13:51:39.379441Z",
     "start_time": "2020-06-15T13:51:34.112902Z"
    }
   },
   "outputs": [
    {
     "output_type": "stream",
     "name": "stdout",
     "text": [
      "0.9565983860955928 0.013556136197153262\n"
     ]
    }
   ],
   "source": [
    "train_results = cross_val_mnist(1e-5)"
   ]
  },
  {
   "cell_type": "code",
   "execution_count": 27,
   "metadata": {},
   "outputs": [
    {
     "output_type": "execute_result",
     "data": {
      "text/plain": [
       "{'fit_time': array([0.08896303, 0.09973907, 0.08305478, 0.076756  , 0.05948997,\n",
       "        0.161412  , 0.085356  , 0.09787393, 0.21534991, 0.33084011]),\n",
       " 'score_time': array([0.01409101, 0.00173497, 0.00052214, 0.00040293, 0.00056911,\n",
       "        0.00059128, 0.00044417, 0.00049591, 0.00072002, 0.00067902]),\n",
       " 'test_score': array([0.95555556, 0.96666667, 0.96666667, 0.95      , 0.94444444,\n",
       "        0.92777778, 0.97777778, 0.96648045, 0.96089385, 0.94972067])}"
      ]
     },
     "metadata": {},
     "execution_count": 27
    }
   ],
   "source": [
    "train_results"
   ]
  },
  {
   "cell_type": "markdown",
   "metadata": {},
   "source": [
    "## Using the with statement"
   ]
  },
  {
   "cell_type": "code",
   "execution_count": 26,
   "metadata": {
    "ExecuteTime": {
     "end_time": "2020-06-15T13:51:49.861449Z",
     "start_time": "2020-06-15T13:51:44.622667Z"
    }
   },
   "outputs": [
    {
     "name": "stdout",
     "output_type": "stream",
     "text": [
      "0.9565983860955928 0.013556136197153262\n"
     ]
    }
   ],
   "source": [
    "with power_meter(\n",
    "  package=\"sklearn\",\n",
    "  algorithm=\"SGDClassifier\",\n",
    "  data_type=\"tabular/images\",\n",
    "  data_shape=\"(1797, 64)\",\n",
    "  algorithm_params=\"loss='log', alpha=1e-5\",\n",
    "  comments=\"10 fold cross validated training of logistic regression classifier trained on the MNIST dataset\"\n",
    "):\n",
    "    mnist = datasets.load_digits()\n",
    "    X = mnist.data\n",
    "    y = mnist.target\n",
    "    clf = SGDClassifier(loss='log', alpha=1e-5, random_state=0)\n",
    "    cv = StratifiedKFold(10, random_state=0, shuffle=True)\n",
    "    cv_results = cross_validate(clf, X, y, cv=cv)\n",
    "    print(cv_results['test_score'].mean(), cv_results['test_score'].std())"
   ]
  },
  {
   "cell_type": "markdown",
   "metadata": {},
   "source": [
    "## Magic function\n",
    "Only usable in notebooks"
   ]
  },
  {
   "cell_type": "code",
   "execution_count": 23,
   "metadata": {
    "ExecuteTime": {
     "end_time": "2020-06-15T13:51:39.394470Z",
     "start_time": "2020-06-15T13:51:39.383521Z"
    }
   },
   "outputs": [
    {
     "name": "stdout",
     "output_type": "stream",
     "text": [
      "The CarbonAImpact.MagicPowerMeter extension is already loaded. To reload it, use:\n",
      "  %reload_ext CarbonAImpact.MagicPowerMeter\n"
     ]
    }
   ],
   "source": [
    "# import the magic function module\n",
    "%load_ext CarbonAImpact.MagicPowerMeter"
   ]
  },
  {
   "cell_type": "code",
   "execution_count": 24,
   "metadata": {
    "ExecuteTime": {
     "end_time": "2020-06-15T13:51:39.408450Z",
     "start_time": "2020-06-15T13:51:39.401132Z"
    }
   },
   "outputs": [
    {
     "name": "stdout",
     "output_type": "stream",
     "text": [
      "\u001b[0;31mDocstring:\u001b[0m\n",
      "::\n",
      "\n",
      "  %measure_power [--data_type DATA_TYPE] [--data_shape DATA_SHAPE]\n",
      "                     [--algorithm_params ALGORITHM_PARAMS]\n",
      "                     [--comments COMMENTS]\n",
      "                     power_meter package algorithm\n",
      "\n",
      "positional arguments:\n",
      "  power_meter           The PowerMeter object of this project\n",
      "  package               The name of the package used here\n",
      "  algorithm             The algorithm type used here\n",
      "\n",
      "optional arguments:\n",
      "  --data_type DATA_TYPE\n",
      "                        Type of data used\n",
      "  --data_shape DATA_SHAPE\n",
      "                        Size of the data used\n",
      "  --algorithm_params ALGORITHM_PARAMS\n",
      "                        Some informative parameters used in your algorithm\n",
      "  --comments COMMENTS   Comments to describe what is done\n",
      "\u001b[0;31mFile:\u001b[0m      /usr/local/anaconda3/envs/green_ai/lib/python3.7/site-packages/CarbonAImpact/MagicPowerMeter.py\n"
     ]
    }
   ],
   "source": [
    "%%measure_power?"
   ]
  },
  {
   "cell_type": "code",
   "execution_count": 25,
   "metadata": {
    "ExecuteTime": {
     "end_time": "2020-06-15T13:51:44.619279Z",
     "start_time": "2020-06-15T13:51:39.412540Z"
    }
   },
   "outputs": [
    {
     "name": "stdout",
     "output_type": "stream",
     "text": [
      "0.9565983860955928 0.013556136197153262\n"
     ]
    }
   ],
   "source": [
    "%%measure_power power_meter \"sklearn\" \"SGDClassifier\" --data_type \"tabular/images\" --data_shape \"(1797,64)\" --algorithm_params \"loss='log', alpha=1e-5\" --comments \"10 fold cross validated training of logistic regression classifier trained on the MNIST dataset\"\n",
    "# This command must always be on the first line of the cell and must be written on one line\n",
    "mnist = datasets.load_digits()\n",
    "X = mnist.data\n",
    "y = mnist.target\n",
    "clf = SGDClassifier(loss='log', alpha=1e-5, random_state=0)\n",
    "cv = StratifiedKFold(10, random_state=0, shuffle=True)\n",
    "cv_results = cross_validate(clf, X, y, cv=cv)\n",
    "print(cv_results['test_score'].mean(), cv_results['test_score'].std())"
   ]
  },
  {
   "cell_type": "markdown",
   "metadata": {},
   "source": [
    "## Inline commands\n",
    "This method is not recommanded because we will only stop monitoring when the program terminates (and not if it raises an error)"
   ]
  },
  {
   "cell_type": "markdown",
   "metadata": {},
   "source": [
    "### Using start_measure and stop_measure methods"
   ]
  },
  {
   "cell_type": "code",
   "execution_count": 27,
   "metadata": {
    "ExecuteTime": {
     "end_time": "2020-06-15T13:51:55.064663Z",
     "start_time": "2020-06-15T13:51:49.864783Z"
    }
   },
   "outputs": [
    {
     "name": "stdout",
     "output_type": "stream",
     "text": [
      "0.9565983860955928 0.013556136197153262\n"
     ]
    }
   ],
   "source": [
    "power_meter.start_measure(\n",
    "  package=\"sklearn\",\n",
    "  algorithm=\"SGDClassifier\",\n",
    "  data_type=\"tabular/images\",\n",
    "  data_shape=\"(1797, 64)\",\n",
    "  algorithm_params=\"loss='log', alpha=1e-5\",\n",
    "  comments=\"10 fold cross validated training of logistic regression classifier trained on the MNIST dataset\"\n",
    ")\n",
    "\n",
    "mnist = datasets.load_digits()\n",
    "X = mnist.data\n",
    "y = mnist.target\n",
    "clf = SGDClassifier(loss='log', alpha=1e-5, random_state=0)\n",
    "cv = StratifiedKFold(10, random_state=0, shuffle=True)\n",
    "cv_results = cross_validate(clf, X, y, cv=cv)\n",
    "print(cv_results['test_score'].mean(), cv_results['test_score'].std())\n",
    "\n",
    "power_meter.stop_measure()"
   ]
  },
  {
   "cell_type": "code",
   "execution_count": null,
   "metadata": {},
   "outputs": [],
   "source": []
  }
 ],
 "metadata": {
  "kernelspec": {
   "display_name": "green_ai",
   "language": "python",
   "name": "green_ai"
  }
 },
 "nbformat": 4,
 "nbformat_minor": 4
}