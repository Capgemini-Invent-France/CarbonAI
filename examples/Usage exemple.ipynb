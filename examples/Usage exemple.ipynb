{
 "cells": [
  {
   "cell_type": "markdown",
   "metadata": {},
   "source": [
    "# Usage example\n",
    "\n",
    "This notebook aims at providing some example code on how to use the python package CarbonAImpact.\n",
    "This package allows you to monitor the energy consumption and CO2 footprint of any sample of code or function\n",
    "\n",
    "[TOC]"
   ]
  },
  {
   "cell_type": "markdown",
   "metadata": {},
   "source": [
    "In all this notebook we'll try to measure how much CO2 does the training of a toy algorithm on the mnist database emit\n",
    "```python\n",
    "mnist = datasets.load_digits()\n",
    "X = mnist.data\n",
    "y = mnist.target\n",
    "clf = SGDClassifier(loss='log', alpha=1e-5)\n",
    "cv = StratifiedKFold(10, random_state=0, shuffle=True)\n",
    "cv_results = cross_validate(clf, X, y, cv=cv)\n",
    "print(cv_results['test_score'].mean(), cv_results['test_score'].std())\n",
    "```"
   ]
  },
  {
   "cell_type": "code",
   "execution_count": 1,
   "metadata": {
    "ExecuteTime": {
     "end_time": "2020-06-15T13:51:31.938212Z",
     "start_time": "2020-06-15T13:51:30.319253Z"
    }
   },
   "outputs": [],
   "source": [
    "from CarbonAImpact import PowerMeter"
   ]
  },
  {
   "cell_type": "code",
   "execution_count": 2,
   "metadata": {
    "ExecuteTime": {
     "end_time": "2020-06-15T13:51:31.953136Z",
     "start_time": "2020-06-15T13:51:31.941953Z"
    }
   },
   "outputs": [
    {
     "output_type": "stream",
     "name": "stdout",
     "text": [
      "Help on class PowerMeter in module CarbonAImpact.PowerMeter:\n\nclass PowerMeter(builtins.object)\n |  PowerMeter(project_name='', program_name='', client_name='', cpu_power_log_path='', get_country=True, user_name='', filepath=None, api_endpoint=None, location='', is_online=True, output_format='csv')\n |  \n |  PowerMeter is a general tool to monitor and log the power consumption of any given function.\n |  \n |  Parameters\n |  ----------\n |  - project_name (optional) : str\n |      Name of the project you are working on (default is folder_name)\n |  - cpu_power_log_path (optional) : str\n |      The path to the tool \"PowerLog\"\n |  - get_country (optional) : bool\n |      Whether use user country location or not\n |  - user_name (optional) : str\n |      The name of the user using the tool (for logging purpose)\n |  - filepath (optional) : str\n |      Path of the file where all the green ai logs are written\n |  - api_endpoint (optional):\n |      Endpoint of the API\n |  \n |  Methods defined here:\n |  \n |  __call__(self, package, algorithm, data_type='', data_shape='', algorithm_params='', comments='', step='other')\n |      The function used by the with statement\n |      \n |      Parameters\n |      ----------\n |      package : str\n |          A string describing the package used by this function (e.g. sklearn, Pytorch, ...)\n |      algorithm : str\n |          A string describing the algorithm used in the function monitored (e.g. RandomForestClassifier, ResNet121, ...)\n |      data_type : str (among : tabular, image, text, time series, other)\n |          A string describing the type of data used for training\n |      data_shape : str or tuple\n |          A string or tuple describing the quantity of data used\n |      algorithm_params (optional) : str\n |          A string describing the parameters used by the algorithm\n |      comments (optional) : str\n |          A string to provide any useful information\n |  \n |  __enter__(self)\n |  \n |  __exit__(self, type, value, traceback)\n |  \n |  __init__(self, project_name='', program_name='', client_name='', cpu_power_log_path='', get_country=True, user_name='', filepath=None, api_endpoint=None, location='', is_online=True, output_format='csv')\n |      Initialize self.  See help(type(self)) for accurate signature.\n |  \n |  measure_power(self, package, algorithm, data_type='', data_shape='', algorithm_params='', comments='', step='other')\n |      A decorator to measure the power consumption of a given function\n |      \n |      Parameters\n |      ----------\n |      package : str\n |          A string describing the package used by this function (e.g. sklearn, Pytorch, ...)\n |      algorithm : str\n |          A string describing the algorithm used in the function monitored (e.g. RandomForestClassifier, ResNet121, ...)\n |      data_type : str (among : tabular, image, text, time series, other)\n |          A string describing the type of data used for training\n |      data_shape : str or tuple\n |          A string or tuple describing the quantity of data used\n |      algorithm_params (optional) : str\n |          A string describing the parameters used by the algorithm\n |      comments (optional) : str\n |          A string to provide any useful information\n |      step (optional) : str\n |          A string to provide useful information such as 'preprocessing', 'inference', 'run'\n |      \n |      Returns\n |      -------\n |  \n |  start_measure(self, package, algorithm, data_type='', data_shape='', algorithm_params='', comments='', step='other')\n |      Starts mesuring the power consumption of a given sample of code\n |      \n |      Parameters\n |      ----------\n |      package : str\n |          A string describing the package used by this function (e.g. sklearn, Pytorch, ...)\n |      algorithm : str\n |          A string describing the algorithm used in the function monitored (e.g. RandomForestClassifier, ResNet121, ...)\n |      data_type : str (among : tabular, image, text, time series, other)\n |          A string describing the type of data used for training\n |      data_shape : str or tuple\n |          A string or tuple describing the quantity of data used\n |      algorithm_params (optional) : str\n |          A string describing the parameters used by the algorithm\n |      comments (optional) : str\n |          A string to provide any useful information\n |  \n |  stop_measure(self)\n |      Stops the measure started with start_measure\n |  \n |  ----------------------------------------------------------------------\n |  Class methods defined here:\n |  \n |  from_config(path) from builtins.type\n |  \n |  ----------------------------------------------------------------------\n |  Data descriptors defined here:\n |  \n |  __dict__\n |      dictionary for instance variables (if defined)\n |  \n |  __weakref__\n |      list of weak references to the object (if defined)\n |  \n |  ----------------------------------------------------------------------\n |  Data and other attributes defined here:\n |  \n |  DATETIME_FORMAT = '%m/%d/%Y %H:%M:%S'\n |  \n |  DEFAULT_LOCATION = 'FR'\n |  \n |  LAPTOP_PUE = 1.3\n |  \n |  SERVER_PUE = 1.58\n\n"
     ]
    }
   ],
   "source": [
    "help(PowerMeter)"
   ]
  },
  {
   "cell_type": "code",
   "execution_count": 3,
   "metadata": {
    "ExecuteTime": {
     "end_time": "2020-06-15T13:51:33.619398Z",
     "start_time": "2020-06-15T13:51:31.959094Z"
    }
   },
   "outputs": [],
   "source": [
    "# imports\n",
    "from CarbonAImpact import PowerMeter #Our package\n",
    "\n",
    "from sklearn import datasets\n",
    "from sklearn.preprocessing import StandardScaler\n",
    "from sklearn.model_selection import StratifiedKFold, cross_validate\n",
    "from sklearn.linear_model import SGDClassifier"
   ]
  },
  {
   "cell_type": "code",
   "execution_count": 9,
   "metadata": {
    "ExecuteTime": {
     "end_time": "2020-06-15T13:51:34.095019Z",
     "start_time": "2020-06-15T13:51:33.622478Z"
    }
   },
   "outputs": [],
   "source": [
    "# Creates a power meter object that contains information relative to the current project\n",
    "# You need to do this step no matter how you use the package\n",
    "power_meter = PowerMeter(project_name=\"Usage examples\", is_online=False, location=\"FR\")"
   ]
  },
  {
   "source": [
    "## Function decorator"
   ],
   "cell_type": "markdown",
   "metadata": {}
  },
  {
   "cell_type": "code",
   "execution_count": 10,
   "metadata": {
    "ExecuteTime": {
     "end_time": "2020-06-15T13:51:34.110741Z",
     "start_time": "2020-06-15T13:51:34.099481Z"
    }
   },
   "outputs": [],
   "source": [
    "# Add a decorator to the main function to measure power usage of this function each time it is called\n",
    "@power_meter.measure_power(\n",
    "  package=\"sklearn\",\n",
    "  algorithm=\"SGDClassifier\",\n",
    "  data_type=\"tabular/images\",\n",
    "  data_shape=\"(1797, 64)\",\n",
    "  algorithm_params=\"loss='log', alpha=1e-5\",\n",
    "  comments=\"10 fold cross validated training of logistic regression classifier trained on the MNIST dataset\"\n",
    ")\n",
    "def cross_val_mnist(alpha, random_state=0):\n",
    "    mnist = datasets.load_digits()\n",
    "    X = mnist.data\n",
    "    y = mnist.target\n",
    "    clf = SGDClassifier(loss='log', alpha=alpha, random_state=random_state)\n",
    "    cv = StratifiedKFold(10, random_state=random_state, shuffle=True)\n",
    "    cv_results = cross_validate(clf, X, y, cv=cv)\n",
    "    print(cv_results['test_score'].mean(), cv_results['test_score'].std())\n",
    "    return cv_results"
   ]
  },
  {
   "cell_type": "code",
   "execution_count": 11,
   "metadata": {
    "ExecuteTime": {
     "end_time": "2020-06-15T13:51:39.379441Z",
     "start_time": "2020-06-15T13:51:34.112902Z"
    }
   },
   "outputs": [
    {
     "output_type": "stream",
     "name": "stdout",
     "text": [
      "0.9565983860955928 0.013556136197153262\n"
     ]
    }
   ],
   "source": [
    "train_results = cross_val_mnist(1e-5)"
   ]
  },
  {
   "cell_type": "markdown",
   "metadata": {},
   "source": [
    "## Magic function\n",
    "Only usable in notebooks"
   ]
  },
  {
   "cell_type": "code",
   "execution_count": 12,
   "metadata": {
    "ExecuteTime": {
     "end_time": "2020-06-15T13:51:39.394470Z",
     "start_time": "2020-06-15T13:51:39.383521Z"
    }
   },
   "outputs": [],
   "source": [
    "# import the magic function module\n",
    "%load_ext CarbonAImpact.MagicPowerMeter"
   ]
  },
  {
   "cell_type": "code",
   "execution_count": 13,
   "metadata": {
    "ExecuteTime": {
     "end_time": "2020-06-15T13:51:39.408450Z",
     "start_time": "2020-06-15T13:51:39.401132Z"
    }
   },
   "outputs": [
    {
     "output_type": "stream",
     "text": [
      "\u001b[0;31mDocstring:\u001b[0m\n",
      "::\n",
      "\n",
      "  %measure_power [--data_type DATA_TYPE] [--data_shape DATA_SHAPE]\n",
      "                     [--algorithm_params ALGORITHM_PARAMS]\n",
      "                     [--comments COMMENTS]\n",
      "                     power_meter package algorithm\n",
      "\n",
      "positional arguments:\n",
      "  power_meter           The PowerMeter object of this project\n",
      "  package               The name of the package used here\n",
      "  algorithm             The algorithm type used here\n",
      "\n",
      "optional arguments:\n",
      "  --data_type DATA_TYPE\n",
      "                        Type of data used\n",
      "  --data_shape DATA_SHAPE\n",
      "                        Size of the data used\n",
      "  --algorithm_params ALGORITHM_PARAMS\n",
      "                        Some informative parameters used in your algorithm\n",
      "  --comments COMMENTS   Comments to describe what is done\n",
      "\u001b[0;31mFile:\u001b[0m      /usr/local/anaconda3/envs/green_ai/lib/python3.7/site-packages/CarbonAImpact/MagicPowerMeter.py\n"
     ],
     "name": "stdout"
    }
   ],
   "source": [
    "%%measure_power?"
   ]
  },
  {
   "cell_type": "code",
   "execution_count": 14,
   "metadata": {
    "ExecuteTime": {
     "end_time": "2020-06-15T13:51:44.619279Z",
     "start_time": "2020-06-15T13:51:39.412540Z"
    }
   },
   "outputs": [
    {
     "output_type": "stream",
     "name": "stdout",
     "text": [
      "0.9565983860955928 0.013556136197153262\n"
     ]
    }
   ],
   "source": [
    "%%measure_power power_meter \"sklearn\" \"SGDClassifier\" --data_type \"tabular/images\" --data_shape \"(1797,64)\" --algorithm_params \"loss='log', alpha=1e-5\" --comments \"10 fold cross validated training of logistic regression classifier trained on the MNIST dataset\"\n",
    "# This command must always be on the first line of the cell and must be written on one line\n",
    "mnist = datasets.load_digits()\n",
    "X = mnist.data\n",
    "y = mnist.target\n",
    "clf = SGDClassifier(loss='log', alpha=1e-5, random_state=0)\n",
    "cv = StratifiedKFold(10, random_state=0, shuffle=True)\n",
    "cv_results = cross_validate(clf, X, y, cv=cv)\n",
    "print(cv_results['test_score'].mean(), cv_results['test_score'].std())"
   ]
  },
  {
   "cell_type": "markdown",
   "metadata": {},
   "source": [
    "## Inline commands\n",
    "There are 2 ways of using this package using inline commands, we recommmand using the *with statement* over the *start and stop methods* as the with statement stops the process automatically even if you get an error in the process"
   ]
  },
  {
   "cell_type": "markdown",
   "metadata": {},
   "source": [
    "### Using the with statement"
   ]
  },
  {
   "cell_type": "code",
   "execution_count": 15,
   "metadata": {
    "ExecuteTime": {
     "end_time": "2020-06-15T13:51:49.861449Z",
     "start_time": "2020-06-15T13:51:44.622667Z"
    }
   },
   "outputs": [
    {
     "output_type": "stream",
     "name": "stdout",
     "text": [
      "0.9565983860955928 0.013556136197153262\n"
     ]
    }
   ],
   "source": [
    "with power_meter(\n",
    "  package=\"sklearn\",\n",
    "  algorithm=\"SGDClassifier\",\n",
    "  data_type=\"tabular/images\",\n",
    "  data_shape=\"(1797, 64)\",\n",
    "  algorithm_params=\"loss='log', alpha=1e-5\",\n",
    "  comments=\"10 fold cross validated training of logistic regression classifier trained on the MNIST dataset\"\n",
    "):\n",
    "    mnist = datasets.load_digits()\n",
    "    X = mnist.data\n",
    "    y = mnist.target\n",
    "    clf = SGDClassifier(loss='log', alpha=1e-5, random_state=0)\n",
    "    cv = StratifiedKFold(10, random_state=0, shuffle=True)\n",
    "    cv_results = cross_validate(clf, X, y, cv=cv)\n",
    "    print(cv_results['test_score'].mean(), cv_results['test_score'].std())"
   ]
  },
  {
   "cell_type": "markdown",
   "metadata": {},
   "source": [
    "### Using start_measure and stop_measure methods"
   ]
  },
  {
   "cell_type": "code",
   "execution_count": 16,
   "metadata": {
    "ExecuteTime": {
     "end_time": "2020-06-15T13:51:55.064663Z",
     "start_time": "2020-06-15T13:51:49.864783Z"
    }
   },
   "outputs": [
    {
     "output_type": "stream",
     "name": "stdout",
     "text": [
      "0.9565983860955928 0.013556136197153262\n"
     ]
    }
   ],
   "source": [
    "power_meter.start_measure(\n",
    "  package=\"sklearn\",\n",
    "  algorithm=\"SGDClassifier\",\n",
    "  data_type=\"tabular/images\",\n",
    "  data_shape=\"(1797, 64)\",\n",
    "  algorithm_params=\"loss='log', alpha=1e-5\",\n",
    "  comments=\"10 fold cross validated training of logistic regression classifier trained on the MNIST dataset\"\n",
    ")\n",
    "\n",
    "mnist = datasets.load_digits()\n",
    "X = mnist.data\n",
    "y = mnist.target\n",
    "clf = SGDClassifier(loss='log', alpha=1e-5, random_state=0)\n",
    "cv = StratifiedKFold(10, random_state=0, shuffle=True)\n",
    "cv_results = cross_validate(clf, X, y, cv=cv)\n",
    "print(cv_results['test_score'].mean(), cv_results['test_score'].std())\n",
    "\n",
    "power_meter.stop_measure()"
   ]
  },
  {
   "cell_type": "code",
   "execution_count": null,
   "metadata": {},
   "outputs": [],
   "source": []
  }
 ],
 "metadata": {
  "kernelspec": {
   "display_name": "green_ai",
   "language": "python",
   "name": "green_ai"
  },
  "language_info": {
   "codemirror_mode": {
    "name": "ipython",
    "version": 3
   },
   "file_extension": ".py",
   "mimetype": "text/x-python",
   "name": "python",
   "nbconvert_exporter": "python",
   "pygments_lexer": "ipython3",
   "version": "3.7.6-final"
  }
 },
 "nbformat": 4,
 "nbformat_minor": 4
}