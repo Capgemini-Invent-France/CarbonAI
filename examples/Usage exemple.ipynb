{
 "cells": [
  {
   "cell_type": "markdown",
   "source": [
    "# Usage example\n",
    "\n",
    "This notebook aims at providing some example code on how to use the python package CarbonAI.\n",
    "This package allows you to monitor the energy consumption and CO2 footprint of any sample of code or function\n",
    "\n",
    "[TOC]"
   ],
   "metadata": {}
  },
  {
   "cell_type": "markdown",
   "source": [
    "In all this notebook we'll try to measure how much CO2 does the training of a toy algorithm on the mnist database emit\n",
    "```python\n",
    "mnist = datasets.load_digits()\n",
    "X = mnist.data\n",
    "y = mnist.target\n",
    "clf = SGDClassifier(loss='log', alpha=1e-5)\n",
    "cv = StratifiedKFold(10, random_state=0, shuffle=True)\n",
    "cv_results = cross_validate(clf, X, y, cv=cv)\n",
    "print(cv_results['test_score'].mean(), cv_results['test_score'].std())\n",
    "```"
   ],
   "metadata": {}
  },
  {
   "cell_type": "code",
   "execution_count": 1,
   "source": [
    "from sklearn import datasets\n",
    "from sklearn.preprocessing import StandardScaler\n",
    "from sklearn.model_selection import StratifiedKFold, cross_validate\n",
    "from sklearn.linear_model import SGDClassifier\n",
    "import matplotlib.pyplot as plt\n",
    "import numpy as np"
   ],
   "outputs": [],
   "metadata": {}
  },
  {
   "cell_type": "code",
   "execution_count": 2,
   "source": [
    "X, y = datasets.load_digits(return_X_y=True)\n",
    "X.shape, y.shape"
   ],
   "outputs": [
    {
     "output_type": "execute_result",
     "data": {
      "text/plain": [
       "((1797, 64), (1797,))"
      ]
     },
     "metadata": {},
     "execution_count": 2
    }
   ],
   "metadata": {}
  },
  {
   "cell_type": "code",
   "execution_count": 3,
   "source": [
    "plt.figure(figsize=(8,6))\n",
    "plt.style.use('fast')\n",
    "plt.suptitle('The MNIST dataset')\n",
    "for i in range(9):\n",
    "    plt.subplot(3, 3, i+1)\n",
    "    plt.imshow(X[i].reshape((8,8)), cmap='gray')\n",
    "    plt.title(f'label:{y[i]}')\n",
    "    plt.axis('off')"
   ],
   "outputs": [],
   "metadata": {}
  },
  {
   "cell_type": "code",
   "execution_count": 23,
   "source": [
    "from CarbonAImpact import PowerMeter"
   ],
   "outputs": [],
   "metadata": {
    "ExecuteTime": {
     "end_time": "2021-02-11T18:36:02.726645Z",
     "start_time": "2021-02-11T18:35:59.411658Z"
    }
   }
  },
  {
   "cell_type": "code",
   "execution_count": 9,
   "source": [
    "help(PowerMeter)"
   ],
   "outputs": [
    {
     "output_type": "stream",
     "name": "stdout",
     "text": [
      "Help on class PowerMeter in module CarbonAImpact.PowerMeter:\n",
      "\n",
      "class PowerMeter(builtins.object)\n",
      " |  PowerMeter(project_name='', program_name='', client_name='', cpu_power_log_path='', get_country=True, user_name='', filepath=None, api_endpoint=None, location='', is_online=True, output_format='csv')\n",
      " |  \n",
      " |  PowerMeter is a general tool to monitor and log the power consumption of any given function.\n",
      " |  \n",
      " |  Parameters\n",
      " |  ----------\n",
      " |  - project_name (optional) : str\n",
      " |      Name of the project you are working on (default is folder_name)\n",
      " |  - cpu_power_log_path (optional) : str\n",
      " |      The path to the tool \"PowerLog\"\n",
      " |  - get_country (optional) : bool\n",
      " |      Whether use user country location or not\n",
      " |  - user_name (optional) : str\n",
      " |      The name of the user using the tool (for logging purpose)\n",
      " |  - filepath (optional) : str\n",
      " |      Path of the file where all the green ai logs are written\n",
      " |  - api_endpoint (optional):\n",
      " |      Endpoint of the API\n",
      " |  \n",
      " |  Methods defined here:\n",
      " |  \n",
      " |  __call__(self, package, algorithm, data_type='', data_shape='', algorithm_params='', comments='', step='other')\n",
      " |      The function used by the with statement\n",
      " |      \n",
      " |      Parameters\n",
      " |      ----------\n",
      " |      package : str\n",
      " |          A string describing the package used by this function (e.g. sklearn, Pytorch, ...)\n",
      " |      algorithm : str\n",
      " |          A string describing the algorithm used in the function monitored (e.g. RandomForestClassifier, ResNet121, ...)\n",
      " |      data_type : str (among : tabular, image, text, time series, other)\n",
      " |          A string describing the type of data used for training\n",
      " |      data_shape : str or tuple\n",
      " |          A string or tuple describing the quantity of data used\n",
      " |      algorithm_params (optional) : str\n",
      " |          A string describing the parameters used by the algorithm\n",
      " |      comments (optional) : str\n",
      " |          A string to provide any useful information\n",
      " |  \n",
      " |  __enter__(self)\n",
      " |  \n",
      " |  __exit__(self, type, value, traceback)\n",
      " |  \n",
      " |  __init__(self, project_name='', program_name='', client_name='', cpu_power_log_path='', get_country=True, user_name='', filepath=None, api_endpoint=None, location='', is_online=True, output_format='csv')\n",
      " |      Initialize self.  See help(type(self)) for accurate signature.\n",
      " |  \n",
      " |  measure_power(self, package, algorithm, data_type='', data_shape='', algorithm_params='', comments='', step='other')\n",
      " |      A decorator to measure the power consumption of a given function\n",
      " |      \n",
      " |      Parameters\n",
      " |      ----------\n",
      " |      package : str\n",
      " |          A string describing the package used by this function (e.g. sklearn, Pytorch, ...)\n",
      " |      algorithm : str\n",
      " |          A string describing the algorithm used in the function monitored (e.g. RandomForestClassifier, ResNet121, ...)\n",
      " |      data_type : str (among : tabular, image, text, time series, other)\n",
      " |          A string describing the type of data used for training\n",
      " |      data_shape : str or tuple\n",
      " |          A string or tuple describing the quantity of data used\n",
      " |      algorithm_params (optional) : str\n",
      " |          A string describing the parameters used by the algorithm\n",
      " |      comments (optional) : str\n",
      " |          A string to provide any useful information\n",
      " |      step (optional) : str\n",
      " |          A string to provide useful information such as 'preprocessing', 'inference', 'run'\n",
      " |      \n",
      " |      Returns\n",
      " |      -------\n",
      " |  \n",
      " |  start_measure(self, package, algorithm, data_type='', data_shape='', algorithm_params='', comments='', step='other')\n",
      " |      Starts mesuring the power consumption of a given sample of code\n",
      " |      \n",
      " |      Parameters\n",
      " |      ----------\n",
      " |      package : str\n",
      " |          A string describing the package used by this function (e.g. sklearn, Pytorch, ...)\n",
      " |      algorithm : str\n",
      " |          A string describing the algorithm used in the function monitored (e.g. RandomForestClassifier, ResNet121, ...)\n",
      " |      data_type : str (among : tabular, image, text, time series, other)\n",
      " |          A string describing the type of data used for training\n",
      " |      data_shape : str or tuple\n",
      " |          A string or tuple describing the quantity of data used\n",
      " |      algorithm_params (optional) : str\n",
      " |          A string describing the parameters used by the algorithm\n",
      " |      comments (optional) : str\n",
      " |          A string to provide any useful information\n",
      " |  \n",
      " |  stop_measure(self)\n",
      " |      Stops the measure started with start_measure\n",
      " |  \n",
      " |  ----------------------------------------------------------------------\n",
      " |  Class methods defined here:\n",
      " |  \n",
      " |  from_config(path) from builtins.type\n",
      " |  \n",
      " |  ----------------------------------------------------------------------\n",
      " |  Data descriptors defined here:\n",
      " |  \n",
      " |  __dict__\n",
      " |      dictionary for instance variables (if defined)\n",
      " |  \n",
      " |  __weakref__\n",
      " |      list of weak references to the object (if defined)\n",
      " |  \n",
      " |  ----------------------------------------------------------------------\n",
      " |  Data and other attributes defined here:\n",
      " |  \n",
      " |  DATETIME_FORMAT = '%m/%d/%Y %H:%M:%S'\n",
      " |  \n",
      " |  DEFAULT_LOCATION = 'FR'\n",
      " |  \n",
      " |  LAPTOP_PUE = 1.3\n",
      " |  \n",
      " |  SERVER_PUE = 1.58\n",
      "\n"
     ]
    }
   ],
   "metadata": {
    "ExecuteTime": {
     "end_time": "2021-02-11T18:36:02.747051Z",
     "start_time": "2021-02-11T18:36:02.729009Z"
    }
   }
  },
  {
   "cell_type": "code",
   "execution_count": 6,
   "source": [
    "# imports\n",
    "from carbonai import PowerMeter #Our package"
   ],
   "outputs": [
    {
     "output_type": "stream",
     "name": "stderr",
     "text": [
      "/usr/local/anaconda3/envs/green_ai/lib/python3.7/site-packages/fuzzywuzzy/fuzz.py:11: UserWarning: Using slow pure-python SequenceMatcher. Install python-Levenshtein to remove this warning\n",
      "  warnings.warn('Using slow pure-python SequenceMatcher. Install python-Levenshtein to remove this warning')\n"
     ]
    }
   ],
   "metadata": {
    "ExecuteTime": {
     "end_time": "2021-02-11T18:36:05.095493Z",
     "start_time": "2021-02-11T18:36:02.754756Z"
    }
   }
  },
  {
   "cell_type": "code",
   "execution_count": 7,
   "source": [
    "# Creates a power meter object that contains information relative to the current project\n",
    "# You need to do this step no matter how you use the package\n",
    "power_meter = PowerMeter(project_name=\"example\", program_name=\"CarbonAI\", client_name=\"IDE\", is_online=False, location=\"FR\")"
   ],
   "outputs": [],
   "metadata": {
    "ExecuteTime": {
     "end_time": "2021-02-11T18:36:05.118273Z",
     "start_time": "2021-02-11T18:36:05.097901Z"
    }
   }
  },
  {
   "cell_type": "code",
   "execution_count": 24,
   "source": [
    "# Creates a power meter object that contains information relative to the current project\n",
    "# You need to do this step no matter how you use the package\n",
    "power_meter = PowerMeter.from_config(path=\"config.json\")"
   ],
   "outputs": [],
   "metadata": {
    "ExecuteTime": {
     "end_time": "2021-02-11T18:36:05.138681Z",
     "start_time": "2021-02-11T18:36:05.121214Z"
    }
   }
  },
  {
   "cell_type": "markdown",
   "source": [
    "## Function decorator"
   ],
   "metadata": {}
  },
  {
   "cell_type": "code",
   "execution_count": 25,
   "source": [
    "# Add a decorator to the main function to measure power usage of this function each time it is called\n",
    "@power_meter.measure_power(\n",
    "  package=\"sklearn\",\n",
    "  algorithm=\"SGDClassifier\",\n",
    "  data_type=\"tabular/images\",\n",
    "  data_shape=\"(1797, 64)\",\n",
    "  algorithm_params=\"loss='log', alpha=1e-5\",\n",
    "  comments=\"10 fold cross validated training of logistic regression classifier trained on the MNIST dataset\"\n",
    ")\n",
    "def cross_val_mnist(alpha, random_state=0):\n",
    "    # load data\n",
    "    mnist = datasets.load_digits()\n",
    "    X = mnist.data\n",
    "    y = mnist.target\n",
    "    # Classifier\n",
    "    clf = SGDClassifier(loss='log', alpha=alpha, random_state=random_state)\n",
    "    # Cross val\n",
    "    cv = StratifiedKFold(10, random_state=random_state, shuffle=True)\n",
    "    cv_results = cross_validate(clf, X, y, cv=cv)\n",
    "    # print results\n",
    "    print(cv_results['test_score'].mean(), cv_results['test_score'].std())\n",
    "    return cv_results"
   ],
   "outputs": [],
   "metadata": {
    "ExecuteTime": {
     "end_time": "2020-06-15T13:51:34.110741Z",
     "start_time": "2020-06-15T13:51:34.099481Z"
    }
   }
  },
  {
   "cell_type": "code",
   "execution_count": 26,
   "source": [
    "train_results = cross_val_mnist(1e-5)"
   ],
   "outputs": [
    {
     "output_type": "stream",
     "name": "stdout",
     "text": [
      "0.9565983860955928 0.013556136197153262\n"
     ]
    }
   ],
   "metadata": {
    "ExecuteTime": {
     "end_time": "2020-06-15T13:51:39.379441Z",
     "start_time": "2020-06-15T13:51:34.112902Z"
    }
   }
  },
  {
   "cell_type": "code",
   "execution_count": 27,
   "source": [
    "train_results"
   ],
   "outputs": [
    {
     "output_type": "execute_result",
     "data": {
      "text/plain": [
       "{'fit_time': array([0.08896303, 0.09973907, 0.08305478, 0.076756  , 0.05948997,\n",
       "        0.161412  , 0.085356  , 0.09787393, 0.21534991, 0.33084011]),\n",
       " 'score_time': array([0.01409101, 0.00173497, 0.00052214, 0.00040293, 0.00056911,\n",
       "        0.00059128, 0.00044417, 0.00049591, 0.00072002, 0.00067902]),\n",
       " 'test_score': array([0.95555556, 0.96666667, 0.96666667, 0.95      , 0.94444444,\n",
       "        0.92777778, 0.97777778, 0.96648045, 0.96089385, 0.94972067])}"
      ]
     },
     "metadata": {},
     "execution_count": 27
    }
   ],
   "metadata": {}
  },
  {
   "cell_type": "markdown",
   "source": [
    "## Using the with statement"
   ],
   "metadata": {}
  },
  {
   "cell_type": "code",
   "execution_count": 8,
   "source": [
    "with power_meter(\n",
    "  package=\"sklearn\",\n",
    "  algorithm=\"SGDClassifier\",\n",
    "  data_type=\"tabular/images\",\n",
    "  data_shape=\"(1797, 64)\",\n",
    "  algorithm_params=\"loss='log', alpha=1e-5\",\n",
    "  comments=\"10 fold cross validated training of logistic regression classifier trained on the MNIST dataset\"\n",
    "):\n",
    "    mnist = datasets.load_digits()\n",
    "    X = mnist.data\n",
    "    y = mnist.target\n",
    "    clf = SGDClassifier(loss='log', alpha=1e-5, random_state=0)\n",
    "    cv = StratifiedKFold(10, random_state=0, shuffle=True)\n",
    "    cv_results = cross_validate(clf, X, y, cv=cv)\n",
    "    print(cv_results['test_score'].mean(), cv_results['test_score'].std())"
   ],
   "outputs": [
    {
     "output_type": "stream",
     "name": "stdout",
     "text": [
      "0.9565983860955928 0.013556136197153262\n"
     ]
    }
   ],
   "metadata": {
    "ExecuteTime": {
     "end_time": "2020-06-15T13:51:49.861449Z",
     "start_time": "2020-06-15T13:51:44.622667Z"
    }
   }
  },
  {
   "cell_type": "markdown",
   "source": [
    "## Magic function\n",
    "Only usable in notebooks"
   ],
   "metadata": {}
  },
  {
   "cell_type": "code",
   "execution_count": 23,
   "source": [
    "# import the magic function module\n",
    "%load_ext carbonai.MagicPowerMeter"
   ],
   "outputs": [
    {
     "output_type": "stream",
     "name": "stdout",
     "text": [
      "The CarbonAImpact.MagicPowerMeter extension is already loaded. To reload it, use:\n",
      "  %reload_ext CarbonAImpact.MagicPowerMeter\n"
     ]
    }
   ],
   "metadata": {
    "ExecuteTime": {
     "end_time": "2020-06-15T13:51:39.394470Z",
     "start_time": "2020-06-15T13:51:39.383521Z"
    }
   }
  },
  {
   "cell_type": "code",
   "execution_count": 24,
   "source": [
    "%%measure_power?"
   ],
   "outputs": [
    {
     "output_type": "stream",
     "name": "stdout",
     "text": [
      "\u001b[0;31mDocstring:\u001b[0m\n",
      "::\n",
      "\n",
      "  %measure_power [--data_type DATA_TYPE] [--data_shape DATA_SHAPE]\n",
      "                     [--algorithm_params ALGORITHM_PARAMS]\n",
      "                     [--comments COMMENTS]\n",
      "                     power_meter package algorithm\n",
      "\n",
      "positional arguments:\n",
      "  power_meter           The PowerMeter object of this project\n",
      "  package               The name of the package used here\n",
      "  algorithm             The algorithm type used here\n",
      "\n",
      "optional arguments:\n",
      "  --data_type DATA_TYPE\n",
      "                        Type of data used\n",
      "  --data_shape DATA_SHAPE\n",
      "                        Size of the data used\n",
      "  --algorithm_params ALGORITHM_PARAMS\n",
      "                        Some informative parameters used in your algorithm\n",
      "  --comments COMMENTS   Comments to describe what is done\n",
      "\u001b[0;31mFile:\u001b[0m      /usr/local/anaconda3/envs/green_ai/lib/python3.7/site-packages/CarbonAImpact/MagicPowerMeter.py\n"
     ]
    }
   ],
   "metadata": {
    "ExecuteTime": {
     "end_time": "2020-06-15T13:51:39.408450Z",
     "start_time": "2020-06-15T13:51:39.401132Z"
    }
   }
  },
  {
   "cell_type": "code",
   "execution_count": 25,
   "source": [
    "%%measure_power power_meter \"sklearn\" \"SGDClassifier\" --data_type \"tabular/images\" --data_shape \"(1797,64)\" --algorithm_params \"loss='log', alpha=1e-5\" --comments \"10 fold cross validated training of logistic regression classifier trained on the MNIST dataset\"\n",
    "# This command must always be on the first line of the cell and must be written on one line\n",
    "mnist = datasets.load_digits()\n",
    "X = mnist.data\n",
    "y = mnist.target\n",
    "clf = SGDClassifier(loss='log', alpha=1e-5, random_state=0)\n",
    "cv = StratifiedKFold(10, random_state=0, shuffle=True)\n",
    "cv_results = cross_validate(clf, X, y, cv=cv)\n",
    "print(cv_results['test_score'].mean(), cv_results['test_score'].std())"
   ],
   "outputs": [
    {
     "output_type": "stream",
     "name": "stdout",
     "text": [
      "0.9565983860955928 0.013556136197153262\n"
     ]
    }
   ],
   "metadata": {
    "ExecuteTime": {
     "end_time": "2020-06-15T13:51:44.619279Z",
     "start_time": "2020-06-15T13:51:39.412540Z"
    }
   }
  },
  {
   "cell_type": "markdown",
   "source": [
    "## Inline commands\n",
    "This method is not recommanded because we will only stop monitoring when the program terminates (and not if it raises an error)"
   ],
   "metadata": {}
  },
  {
   "cell_type": "markdown",
   "source": [
    "### Using start_measure and stop_measure methods"
   ],
   "metadata": {}
  },
  {
   "cell_type": "code",
   "execution_count": 27,
   "source": [
    "power_meter.start_measure(\n",
    "  package=\"sklearn\",\n",
    "  algorithm=\"SGDClassifier\",\n",
    "  data_type=\"tabular/images\",\n",
    "  data_shape=\"(1797, 64)\",\n",
    "  algorithm_params=\"loss='log', alpha=1e-5\",\n",
    "  comments=\"10 fold cross validated training of logistic regression classifier trained on the MNIST dataset\"\n",
    ")\n",
    "\n",
    "mnist = datasets.load_digits()\n",
    "X = mnist.data\n",
    "y = mnist.target\n",
    "clf = SGDClassifier(loss='log', alpha=1e-5, random_state=0)\n",
    "cv = StratifiedKFold(10, random_state=0, shuffle=True)\n",
    "cv_results = cross_validate(clf, X, y, cv=cv)\n",
    "print(cv_results['test_score'].mean(), cv_results['test_score'].std())\n",
    "\n",
    "power_meter.stop_measure()"
   ],
   "outputs": [
    {
     "output_type": "stream",
     "name": "stdout",
     "text": [
      "0.9565983860955928 0.013556136197153262\n"
     ]
    }
   ],
   "metadata": {
    "ExecuteTime": {
     "end_time": "2020-06-15T13:51:55.064663Z",
     "start_time": "2020-06-15T13:51:49.864783Z"
    }
   }
  },
  {
   "cell_type": "code",
   "execution_count": null,
   "source": [],
   "outputs": [],
   "metadata": {}
  }
 ],
 "metadata": {
  "kernelspec": {
   "name": "python3",
   "display_name": "Python 3.7.10 64-bit ('green_ai': conda)"
  },
  "language_info": {
   "name": "python",
   "version": "3.7.10",
   "mimetype": "text/x-python",
   "codemirror_mode": {
    "name": "ipython",
    "version": 3
   },
   "pygments_lexer": "ipython3",
   "nbconvert_exporter": "python",
   "file_extension": ".py"
  },
  "interpreter": {
   "hash": "cca36d77e67ed7fc65437e54fdc539a95883885ad2bb2e9305924d18d201a7b5"
  }
 },
 "nbformat": 4,
 "nbformat_minor": 4
}
