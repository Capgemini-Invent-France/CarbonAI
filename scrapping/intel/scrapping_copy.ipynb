{
 "cells": [
  {
   "cell_type": "code",
   "execution_count": 55,
   "id": "4f550b6e",
   "metadata": {},
   "outputs": [
    {
     "data": {
      "application/vnd.jupyter.widget-view+json": {
       "model_id": "8ae87abac3a84672913611ec4b1fbd7a",
       "version_major": 2,
       "version_minor": 0
      },
      "text/plain": [
       "  0%|          | 0/8 [00:00<?, ?it/s]"
      ]
     },
     "metadata": {},
     "output_type": "display_data"
    },
    {
     "data": {
      "application/vnd.jupyter.widget-view+json": {
       "model_id": "530c0bb453a4472fbcda8f208e25f78c",
       "version_major": 2,
       "version_minor": 0
      },
      "text/plain": [
       "  0%|          | 0/102 [00:00<?, ?it/s]"
      ]
     },
     "metadata": {},
     "output_type": "display_data"
    },
    {
     "data": {
      "text/plain": [
       "dict_keys(['intel core i910900x xseries processor 19 25m ', 'intel core i912900 processor 30m ', 'intel core i910850k processor 20m ', 'intel core i99900ks processor 16m ', 'intel core i98950hk processor 12m ', 'intel core i712650h processor 24m ', 'intel core i710870h processor 16m ', 'intel core i79700e processor 12m ', 'intel core i78557u processor 8m ', 'intel core i77560u processor 4m ', 'intel core i76785r processor 8m ', 'intel core i75700eq processor 6m ', 'intel core i74720hq processor 6m ', 'intel core i512400 processor 18m ', 'intel core i510505 processor 12m ', 'intel core i59500e processor 9m ', 'intel core i58260u processor 6m ', 'intel core i57260u processor 4m ', 'intel core i56585r processor 6m ', 'intel core i55350h processor 4m ', 'intel core i54210h processor 3m ', 'intel core i312100 processor 12m ', 'intel core i310105 processor 6m ', 'intel core i39100e processor 6m ', 'intel core i38140u processor 4m ', 'intel core i37020u processor 3m ', 'intel core i36006u processor 3m ', 'intel core i35015u processor 3m ', 'intel core i34170 processor 3m ', 'intel core m38100y processor 4m ', 'intel core m37y32 processor 4m ', 'intel core m36y30 processor 4m ', 'intel core m5y10c processor 4m ', 'intel pentium silver n6000 processor 4m ', 'intel pentium processor d1519 6m ', 'intel pentium processor g4560 3m ', 'intel pentium processor j6426 1 5m ', 'intel pentium processor n6415 1 5m ', 'intel pentium processor 6805 4m ', 'intel pentium processor 4405u 2m ', 'intel pentium processor 3825u 2m ', 'intel pentium processor 2127u 2m ', 'intel pentium processor a1020 2m ', 'intel pentium processor b925c 4m ', 'intel celeron processor j6412 1 5m ', 'intel celeron processor n6210 1 5m ', 'intel celeron 6600he processor 8m ', 'intel celeron processor 5305u 2m ', 'intel celeron processor 4305ue 2m ', 'intel celeron processor 3867u 2m ', 'intel celeron processor 2970m 2m ', 'intel celeron processor 1005m 2m ', 'intel celeron processor g470 1 5m ', 'intel xeon gold 5315y processor 12m ', 'intel xeon bronze 3206r processor 11m ', 'intel xeon gold 6138p processor 27 5m ', 'intel xeon e2314 processor 8m ', 'intel xeon w11155mle processor 8m ', 'intel xeon d1602 processor 3m ', 'intel xeon processor e78894 v4 60m ', 'intel xeon processor e74809 v3 20m ', 'intel xeon processor e72850 v2 24m ', 'intel xeon processor e72803 18m ', 'intel xeon processor e52699a v4 55m ', 'intel xeon processor e54610 v3 25m ', 'intel xeon processor e54603 v2 10m ', 'intel xeon processor e51428l 15m ', 'intel xeon processor e31285 v6 8m ', 'intel xeon processor e31558l v5 8m ', 'intel xeon processor e31258l v4 6m ', 'intel xeon processor e31226 v3 8m ', 'intel xeon processor e31105c v2 8m ', 'intel xeon processor e31105c 6m ', 'intel xeon processor e5603 4m ', 'intel xeon phi coprocessor 7120a 16gb 1 238 ghz 61 core.html ', 'intel xeon phi processor 7210 16gb 1 30 ghz 64 core.html ', 'intel xeon phi processor 7235 16gb 1 3 ghz 64 core.html ', 'intel itanium processor 9720 20m ', 'intel itanium processor 9520 20m ', 'intel itanium processor 9310 10m ', 'intel itanium processor 9110n 12m ', 'intel itanium processor 9015 12m ', 'intel atom processor c3338r 4m ', 'intel atom processor d2550 1m ', 'intel atom processor e3805 1m ', 'intel atom processor n2600 1m ', 'intel atom processor s1220 1m ', 'intel atom x6200fe processor 1 5m ', 'intel atom processor z600 512k ', 'intel quark soc x1001 16k ', 'intel quark microcontroller d1000.html '])"
      ]
     },
     "execution_count": 55,
     "metadata": {},
     "output_type": "execute_result"
    }
   ],
   "source": [
    "from bs4 import BeautifulSoup\n",
    "import requests\n",
    "from tqdm.notebook import tqdm\n",
    "import pandas as pd \n",
    "import re \n",
    "\n",
    "def get_max_power(path):\n",
    "\n",
    "    \"\"\"\n",
    "    Given a website page this function extract\n",
    "    the TDP or Maximum Turbo Power value \n",
    "\n",
    "    Returns\n",
    "    -------\n",
    "    [int]\n",
    "        [TDP or Maximum Turbo Power value]\n",
    "    \"\"\"\n",
    "    page = requests.get(path)\n",
    "    soup = BeautifulSoup(page.content, 'html.parser')\n",
    "    try : \n",
    "        maxtdp = soup.findAll('span', {\"data-key\" : \"MaxTDP\"})\n",
    "        return maxtdp[0].text.strip()\n",
    "    except :\n",
    "        mtp = soup.findAll('span', {\"data-key\" : \"MaxTurboPower\"})\n",
    "        if mtp != []:\n",
    "            return mtp[0].text.strip()\n",
    "        else :\n",
    "            \"See with Martin\"\n",
    "\n",
    "\n",
    "def get_intel_path():\n",
    "    \"\"\"\n",
    "    This function scraps intel website in order to \n",
    "    get the url adress of each intel processors on\n",
    "    the market currently. Notice that there is 8 different\n",
    "    kind of processors on the market.\n",
    "    \"\"\"\n",
    "\n",
    "    main_path = \"https://ark.intel.com/content/www/us/en/ark.html#@Processors\"\n",
    "    page = requests.get(main_path)\n",
    "\n",
    "    test_path = []\n",
    "    path_prob = []\n",
    "\n",
    "    soup = BeautifulSoup(page.content, 'html.parser')\n",
    "    tags = soup.find('div', {\"data-parent-panel-key\" : \"Processors\"}).findAll('div',{\"data-wap_ref\" : \"category|subcategory\"})\n",
    "\n",
    "    for i in tqdm(tags) :\n",
    "\n",
    "        path, _ = main_path.split(\"@\")\n",
    "        path = path + \"@\" + i.attrs[\"data-panel-key\"]\n",
    "        page =  requests.get(path)\n",
    "\n",
    "        soup = BeautifulSoup(page.content, 'html.parser')\n",
    "        tags_2 = soup.find('div', {'data-parent-panel-key':f'{i.attrs[\"data-panel-key\"]}'}).findAll('a')\n",
    "\n",
    "        for j in tags_2 : \n",
    "\n",
    "            path = \"https://ark.intel.com/\" + j.attrs[\"href\"]\n",
    "            page =  requests.get(path)\n",
    "\n",
    "            soup = BeautifulSoup(page.content, 'html.parser')\n",
    "\n",
    "            try :\n",
    "                test_path.append(\"https://ark.intel.com/\"+soup.find('tbody').find('td').find('a').attrs['href'])\n",
    "            except :\n",
    "                path_prob.append(path)\n",
    "\n",
    "    return test_path, path_prob\n",
    "\n",
    "def get_processor_name(path):\n",
    "    \"\"\"\n",
    "    extract from a path the name of the intel processor\n",
    "\n",
    "    Parameters\n",
    "    ----------\n",
    "    path : [string]\n",
    "        [https path of the intel processor]\n",
    "    \"\"\"\n",
    "    path = path.split('/')[-1]\n",
    "\n",
    "    empty = \"\"\n",
    "    for i in path.split('-') :\n",
    "        if i == 'cache':\n",
    "            break\n",
    "        empty += i + ' '\n",
    "\n",
    "    return empty\n",
    "    \n",
    "    \n",
    "path, _ = get_intel_path()\n",
    "\n",
    "results = {}\n",
    "for i in tqdm(path) :\n",
    "    name = get_processor_name(i)\n",
    "    try :\n",
    "        val = get_max_power(i)\n",
    "        val = int(re.sub(\"[^0-9]\", \"\", val))\n",
    "        results[name]= val\n",
    "    except :\n",
    "        continue\n",
    "\n",
    "df = pd.DataFrame({'name':results.keys(),\n",
    "                'maximum_power':results.values()})\n",
    "\n",
    "df.head()"
   ]
  }
 ],
 "metadata": {
  "kernelspec": {
   "display_name": "Python 3 (ipykernel)",
   "language": "python",
   "name": "python3"
  },
  "language_info": {
   "codemirror_mode": {
    "name": "ipython",
    "version": 3
   },
   "file_extension": ".py",
   "mimetype": "text/x-python",
   "name": "python",
   "nbconvert_exporter": "python",
   "pygments_lexer": "ipython3",
   "version": "3.9.10"
  }
 },
 "nbformat": 4,
 "nbformat_minor": 5
}
