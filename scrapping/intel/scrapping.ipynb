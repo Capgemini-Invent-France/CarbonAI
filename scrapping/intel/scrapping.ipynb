{
 "cells": [
  {
   "cell_type": "code",
   "execution_count": 104,
   "id": "4f550b6e",
   "metadata": {},
   "outputs": [],
   "source": [
    "from bs4 import BeautifulSoup\n",
    "import requests\n",
    "import re\n",
    "from tqdm.notebook import tqdm \n",
    "\n",
    "\n",
    "def get_path_processor():\n",
    "\n",
    "    main_path = \"https://ark.intel.com/content/www/us/en/ark.html#@Processors\"\n",
    "    page = requests.get(main_path)\n",
    "\n",
    "    test_path = []\n",
    "\n",
    "    soup = BeautifulSoup(page.content, 'html.parser')\n",
    "    tags_1 = soup.find('div', {\"data-parent-panel-key\" : \"Processors\"}).findAll('div',{\"data-wap_ref\" : \"category|subcategory\"})\n",
    "\n",
    "    for i in tqdm(tags_1) :\n",
    "\n",
    "        path, _ = main_path.split(\"@\")\n",
    "        path = path + \"@\" + i.attrs[\"data-panel-key\"]\n",
    "        page =  requests.get(path)\n",
    "\n",
    "        soup = BeautifulSoup(page.content, 'html.parser')\n",
    "        tags_2 = soup.find('div', {'data-parent-panel-key':f'{i.attrs[\"data-panel-key\"]}'}).findAll('a')\n",
    "\n",
    "        for j in tags_2 : \n",
    "\n",
    "            path = \"https://ark.intel.com/\" + j.attrs[\"href\"]\n",
    "            page =  requests.get(path)\n",
    "\n",
    "            soup = BeautifulSoup(page.content, 'html.parser')\n",
    "            tags_3 = soup.findAll('td', {'class':'ark-product-name ark-accessible-color component', 'data-component':'arkproductlink'})\n",
    "\n",
    "            for k in tags_3 : \n",
    "                \n",
    "                path = \"https://ark.intel.com/\" + k.find('a').attrs['href']\n",
    "                test_path.append(path)\n",
    "    return test_path\n",
    "\n",
    "def get_max_tdp(path):\n",
    "\n",
    "    page = requests.get(path)\n",
    "    soup = BeautifulSoup(page.content, 'html.parser')\n",
    "\n",
    "    try : \n",
    "        maxtdp = soup.find('span', {\"data-key\" : \"MaxTDP\"})\n",
    "        return maxtdp[0].text.strip()\n",
    "    except :\n",
    "        mtp = soup.find('span', {\"data-key\" : \"MaxTurboPower\"})\n",
    "        pbp = soup.find('span', {\"data-key\" : \"ProcessorBasePower\"})\n",
    "        return mtp, pbp"
   ]
  },
  {
   "cell_type": "code",
   "execution_count": 105,
   "id": "ece7285f",
   "metadata": {},
   "outputs": [
    {
     "data": {
      "application/vnd.jupyter.widget-view+json": {
       "model_id": "d9e1b926c4504567904242c28379f254",
       "version_major": 2,
       "version_minor": 0
      },
      "text/plain": [
       "  0%|          | 0/8 [00:00<?, ?it/s]"
      ]
     },
     "metadata": {},
     "output_type": "display_data"
    }
   ],
   "source": [
    "tmp = get_path_processor()"
   ]
  },
  {
   "cell_type": "code",
   "execution_count": 8,
   "id": "8225be15",
   "metadata": {},
   "outputs": [],
   "source": [
    "mac_mod = \"7360U Processor\"\n",
    "azure_mod = \"Intel(R) Xeon(R) Platinum 8171M CPU @ 2.60GHz\""
   ]
  }
 ],
 "metadata": {
  "kernelspec": {
   "display_name": "Python 3 (ipykernel)",
   "language": "python",
   "name": "python3"
  },
  "language_info": {
   "codemirror_mode": {
    "name": "ipython",
    "version": 3
   },
   "file_extension": ".py",
   "mimetype": "text/x-python",
   "name": "python",
   "nbconvert_exporter": "python",
   "pygments_lexer": "ipython3",
   "version": "3.9.10"
  }
 },
 "nbformat": 4,
 "nbformat_minor": 5
}
